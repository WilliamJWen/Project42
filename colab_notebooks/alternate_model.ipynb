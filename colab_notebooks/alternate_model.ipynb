{
  "nbformat": 4,
  "nbformat_minor": 0,
  "metadata": {
    "colab": {
      "provenance": [],
      "include_colab_link": true
    },
    "kernelspec": {
      "name": "python3",
      "display_name": "Python 3"
    },
    "language_info": {
      "name": "python"
    }
  },
  "cells": [
    {
      "cell_type": "markdown",
      "metadata": {
        "id": "view-in-github",
        "colab_type": "text"
      },
      "source": [
        "<a href=\"https://colab.research.google.com/github/WilliamJWen/Project42/blob/main/colab_notebooks/alternate_model.ipynb\" target=\"_parent\"><img src=\"https://colab.research.google.com/assets/colab-badge.svg\" alt=\"Open In Colab\"/></a>"
      ]
    },
    {
      "cell_type": "markdown",
      "source": [
        "**Project42: AI generated Image Detector**\n",
        "\n"
      ],
      "metadata": {
        "id": "CiQEstYgBC1E"
      }
    },
    {
      "cell_type": "markdown",
      "source": [
        "# Data Preprocessing"
      ],
      "metadata": {
        "id": "J-hg1Xwn-W2e"
      }
    },
    {
      "cell_type": "code",
      "source": [
        "# mount our Google Drive\n",
        "from google.colab import drive\n",
        "drive.mount('/content/drive', force_remount=True)"
      ],
      "metadata": {
        "id": "cJINZH3ci1Y3",
        "outputId": "1e24242d-8b2f-4362-aeba-5782212462dc",
        "colab": {
          "base_uri": "https://localhost:8080/"
        }
      },
      "execution_count": null,
      "outputs": [
        {
          "output_type": "stream",
          "name": "stdout",
          "text": [
            "Mounted at /content/drive\n"
          ]
        }
      ]
    },
    {
      "cell_type": "code",
      "source": [],
      "metadata": {
        "id": "nb8T4qLwkz1l",
        "outputId": "5f1d7617-242d-4a27-b9d3-fe7ec0cd288e",
        "colab": {
          "base_uri": "https://localhost:8080/"
        }
      },
      "execution_count": null,
      "outputs": [
        {
          "output_type": "stream",
          "name": "stdout",
          "text": [
            "/\n"
          ]
        }
      ]
    },
    {
      "cell_type": "code",
      "source": [],
      "metadata": {
        "id": "HoaQHTZHXREW",
        "outputId": "1dd84954-c55c-46ec-f84b-e4118e8f3294",
        "colab": {
          "base_uri": "https://localhost:8080/"
        }
      },
      "execution_count": null,
      "outputs": [
        {
          "output_type": "stream",
          "name": "stdout",
          "text": [
            "\u001b[0m\u001b[01;34mtest\u001b[0m/  \u001b[01;34mtrain\u001b[0m/  \u001b[01;34mval\u001b[0m/\n"
          ]
        }
      ]
    },
    {
      "cell_type": "code",
      "source": [
        "import torch\n",
        "import torch.nn as nn\n",
        "import torch.optim as optim\n",
        "from torchvision import models, transforms, datasets\n",
        "from torch.utils.data import DataLoader\n",
        "import matplotlib.pyplot as plt\n",
        "import numpy as np\n",
        "import os\n",
        "\n",
        "# Define data transformations (aligned with your dataset preprocessing)\n",
        "data_transforms = transforms.Compose([\n",
        "        transforms.CenterCrop(256),\n",
        "        transforms.ToTensor(),\n",
        "        transforms.Normalize([0.5, 0.5, 0.5], [0.5, 0.5, 0.5])])\n",
        "\n",
        "\n",
        "# Define dataset and dataloaders (aligned with your dataset structure)\n",
        "def get_data_loaders(data_dir, batch_size=64):\n",
        "    \"\"\"\n",
        "    Load datasets from the specified directory, simialr to the collab notebook\n",
        "    Assuming the directory structure: - I'm confused about this, saw the collab notebook but got more confused\n",
        "    data_dir/\n",
        "        train/\n",
        "            class1/\n",
        "            class2/\n",
        "        val/\n",
        "            class1/\n",
        "            class2/\n",
        "        test/\n",
        "            class1/\n",
        "            class2/\n",
        "    \"\"\"\n",
        "    train_dir = os.path.join(data_dir, 'train')\n",
        "    val_dir = os.path.join(data_dir, 'val')\n",
        "    test_dir = os.path.join(data_dir, 'test')\n",
        "\n",
        "    train_dataset = datasets.ImageFolder(train_dir, transform=data_transforms)\n",
        "    val_dataset = datasets.ImageFolder(val_dir, transform=data_transforms)\n",
        "    test_dataset = datasets.ImageFolder(test_dir, transform=data_transforms)\n",
        "\n",
        "    dataloaders = {\n",
        "        'train': DataLoader(train_dataset, batch_size=batch_size, shuffle=True, num_workers=4),\n",
        "        'val': DataLoader(val_dataset, batch_size=batch_size, shuffle=True, num_workers=4),\n",
        "        'test': DataLoader(test_dataset, batch_size=batch_size, shuffle=False, num_workers=4)\n",
        "    }\n",
        "    return dataloaders\n",
        "\n",
        "# Initialize model (aligned with your baseline and primary architecture)\n",
        "def initialize_model(use_pretrained=True):\n",
        "    \"\"\"\n",
        "    Initialize a ResNet18 model with a custom classifier head- similar to the one used in tutorial 3b\n",
        "    \"\"\"\n",
        "    # Load pre-trained ResNet18 (similar to AlexNet in the tutorial)\n",
        "    model = models.resnet18(pretrained=use_pretrained)\n",
        "\n",
        "    # Freeze all parameters except the final layer (transfer learning)\n",
        "    for param in model.parameters():\n",
        "        param.requires_grad = False\n",
        "\n",
        "    # Replace the final fully connected layer (custom classifier)\n",
        "    num_ftrs = model.fc.in_features\n",
        "    model.fc = nn.Sequential(\n",
        "        nn.Linear(num_ftrs, 512),  # Fully connected layer\n",
        "        nn.ReLU(),                 # Activation function\n",
        "        nn.Dropout(0.5),           # Dropout for regularization\n",
        "        nn.Linear(512, 1)          # Binary classification (real vs fake)\n",
        "    )\n",
        "    return model\n",
        "\n",
        "# Training function (aligned with your training loop)\n",
        "def train_model(model, dataloaders, criterion, optimizer, num_epochs=25):\n",
        "    \"\"\"\n",
        "    Training the model and tracking training/validation metrics.\n",
        "    \"\"\"\n",
        "    best_acc = 0.0\n",
        "    train_loss, val_loss = [], []\n",
        "    train_acc, val_acc = [], []\n",
        "\n",
        "    for epoch in range(num_epochs):\n",
        "        print(f'Epoch {epoch + 1}/{num_epochs}')\n",
        "        print('-' * 10)\n",
        "\n",
        "        # Each epoch has training and validation phase\n",
        "        for phase in ['train', 'val']:\n",
        "            if phase == 'train':\n",
        "                model.train()\n",
        "            else:\n",
        "                model.eval()\n",
        "\n",
        "            running_loss = 0.0\n",
        "            running_corrects = 0\n",
        "\n",
        "            for inputs, labels in dataloaders[phase]:\n",
        "                inputs = inputs.to(device)\n",
        "                labels = labels.to(device).float()\n",
        "\n",
        "                optimizer.zero_grad()\n",
        "\n",
        "                # Forward pass\n",
        "                with torch.set_grad_enabled(phase == 'train'):\n",
        "                    outputs = model(inputs)\n",
        "                    preds = torch.sigmoid(outputs) > 0.5\n",
        "                    loss = criterion(outputs.squeeze(), labels)\n",
        "\n",
        "                    # Backward pass + optimize only if in training phase\n",
        "                    if phase == 'train':\n",
        "                        loss.backward()\n",
        "                        optimizer.step()\n",
        "\n",
        "                # Statistics\n",
        "                running_loss += loss.item() * inputs.size(0)\n",
        "                running_corrects += torch.sum(preds.squeeze() == labels.byte())\n",
        "\n",
        "            epoch_loss = running_loss / len(dataloaders[phase].dataset)\n",
        "            epoch_acc = running_corrects.double() / len(dataloaders[phase].dataset)\n",
        "\n",
        "            # Store metrics\n",
        "            if phase == 'train':\n",
        "                train_loss.append(epoch_loss)\n",
        "                train_acc.append(epoch_acc)\n",
        "            else:\n",
        "                val_loss.append(epoch_loss)\n",
        "                val_acc.append(epoch_acc)\n",
        "\n",
        "            print(f'{phase} Loss: {epoch_loss:.4f} Acc: {epoch_acc:.4f}')\n",
        "\n",
        "            # Save best model\n",
        "            if phase == 'val' and epoch_acc > best_acc:\n",
        "                best_acc = epoch_acc\n",
        "                torch.save(model.state_dict(), 'best_model.pth')\n",
        "\n",
        "    # Plot training curves\n",
        "    plt.figure(figsize=(12, 5))\n",
        "    plt.subplot(1, 2, 1)\n",
        "    plt.plot(train_loss, label='Train Loss')\n",
        "    plt.plot(val_loss, label='Val Loss')\n",
        "    plt.legend()\n",
        "\n",
        "    plt.subplot(1, 2, 2)\n",
        "    plt.plot(train_acc, label='Train Acc')\n",
        "    plt.plot(val_acc, label='Val Acc')\n",
        "    plt.legend()\n",
        "    plt.show()\n",
        "\n",
        "    return model\n",
        "\n",
        "# Main execution\n",
        "if __name__ == '__main__':\n",
        "    # Set device\n",
        "    device = torch.device(\"cuda:0\" if torch.cuda.is_available() else \"cpu\")\n",
        "\n",
        "    # Initialize model\n",
        "    model = initialize_model()\n",
        "    model = model.to(device)\n",
        "\n",
        "    # Get data loaders\n",
        "    data_dir = '/content/drive/MyDrive/Project 42/processedChameleon/step2'  # Update this path to your dataset directory\n",
        "    dataloaders = get_data_loaders(data_dir, batch_size=64)\n",
        "\n",
        "    # Define loss and optimizer\n",
        "    criterion = nn.BCEWithLogitsLoss()  # Binary cross-entropy loss\n",
        "    optimizer = optim.Adam(model.fc.parameters(), lr=0.001)  # Optimize only the final layer\n",
        "\n",
        "    # Train model\n",
        "    model = train_model(model, dataloaders, criterion, optimizer, num_epochs=25)\n",
        "\n",
        "    # Evaluate on test set\n",
        "    model.eval()\n",
        "    test_correct = 0\n",
        "    total = 0\n",
        "    with torch.no_grad():\n",
        "        for inputs, labels in dataloaders['test']:\n",
        "            inputs = inputs.to(device)\n",
        "            labels = labels.to(device).float()\n",
        "\n",
        "            outputs = model(inputs)\n",
        "            preds = torch.sigmoid(outputs) > 0.5\n",
        "            test_correct += (preds.squeeze() == labels.byte()).sum().item()\n",
        "            total += labels.size(0)\n",
        "\n",
        "    print(f'Test Accuracy: {test_correct / total:.4f}')"
      ],
      "metadata": {
        "colab": {
          "base_uri": "https://localhost:8080/"
        },
        "id": "R529eEtCVwbw",
        "outputId": "78798c25-def2-4e8b-f957-36beacd62a76"
      },
      "execution_count": null,
      "outputs": [
        {
          "metadata": {
            "tags": null
          },
          "name": "stderr",
          "output_type": "stream",
          "text": [
            "/usr/local/lib/python3.11/dist-packages/torchvision/models/_utils.py:208: UserWarning: The parameter 'pretrained' is deprecated since 0.13 and may be removed in the future, please use 'weights' instead.\n",
            "  warnings.warn(\n",
            "/usr/local/lib/python3.11/dist-packages/torchvision/models/_utils.py:223: UserWarning: Arguments other than a weight enum or `None` for 'weights' are deprecated since 0.13 and may be removed in the future. The current behavior is equivalent to passing `weights=ResNet18_Weights.IMAGENET1K_V1`. You can also use `weights=ResNet18_Weights.DEFAULT` to get the most up-to-date weights.\n",
            "  warnings.warn(msg)\n",
            "Downloading: \"https://download.pytorch.org/models/resnet18-f37072fd.pth\" to /root/.cache/torch/hub/checkpoints/resnet18-f37072fd.pth\n",
            "100%|██████████| 44.7M/44.7M [00:00<00:00, 117MB/s]\n"
          ]
        },
        {
          "metadata": {
            "tags": null
          },
          "name": "stdout",
          "output_type": "stream",
          "text": [
            "Epoch 1/25\n",
            "----------\n"
          ]
        },
        {
          "metadata": {
            "tags": null
          },
          "name": "stderr",
          "output_type": "stream",
          "text": [
            "/usr/local/lib/python3.11/dist-packages/torch/utils/data/dataloader.py:617: UserWarning: This DataLoader will create 4 worker processes in total. Our suggested max number of worker in current system is 2, which is smaller than what this DataLoader is going to create. Please be aware that excessive worker creation might get DataLoader running slow or even freeze, lower the worker number to avoid potential slowness/freeze if necessary.\n",
            "  warnings.warn(\n"
          ]
        },
        {
          "output_type": "stream",
          "name": "stdout",
          "text": [
            "train Loss: 0.4203 Acc: 0.8071\n",
            "val Loss: 0.3536 Acc: 0.8476\n",
            "Epoch 2/25\n",
            "----------\n",
            "train Loss: 0.3586 Acc: 0.8468\n",
            "val Loss: 0.3217 Acc: 0.8634\n",
            "Epoch 3/25\n",
            "----------\n",
            "train Loss: 0.3413 Acc: 0.8545\n",
            "val Loss: 0.3242 Acc: 0.8570\n",
            "Epoch 4/25\n",
            "----------\n",
            "train Loss: 0.3261 Acc: 0.8625\n",
            "val Loss: 0.3097 Acc: 0.8681\n",
            "Epoch 5/25\n",
            "----------\n",
            "train Loss: 0.3092 Acc: 0.8692\n",
            "val Loss: 0.3033 Acc: 0.8688\n",
            "Epoch 6/25\n",
            "----------\n",
            "train Loss: 0.3040 Acc: 0.8707\n",
            "val Loss: 0.3009 Acc: 0.8711\n",
            "Epoch 7/25\n",
            "----------\n",
            "train Loss: 0.2925 Acc: 0.8757\n",
            "val Loss: 0.3328 Acc: 0.8553\n",
            "Epoch 8/25\n",
            "----------\n",
            "train Loss: 0.2884 Acc: 0.8791\n",
            "val Loss: 0.3365 Acc: 0.8570\n",
            "Epoch 9/25\n",
            "----------\n",
            "train Loss: 0.2760 Acc: 0.8812\n",
            "val Loss: 0.2896 Acc: 0.8755\n",
            "Epoch 10/25\n",
            "----------\n",
            "train Loss: 0.2682 Acc: 0.8879\n",
            "val Loss: 0.2765 Acc: 0.8792\n",
            "Epoch 11/25\n",
            "----------\n",
            "train Loss: 0.2608 Acc: 0.8916\n",
            "val Loss: 0.2760 Acc: 0.8812\n",
            "Epoch 12/25\n",
            "----------\n",
            "train Loss: 0.2497 Acc: 0.8973\n",
            "val Loss: 0.2693 Acc: 0.8876\n",
            "Epoch 13/25\n",
            "----------\n",
            "train Loss: 0.2484 Acc: 0.8979\n",
            "val Loss: 0.2759 Acc: 0.8873\n",
            "Epoch 14/25\n",
            "----------\n",
            "train Loss: 0.2430 Acc: 0.9023\n",
            "val Loss: 0.2790 Acc: 0.8859\n",
            "Epoch 15/25\n",
            "----------\n",
            "train Loss: 0.2396 Acc: 0.9003\n",
            "val Loss: 0.2664 Acc: 0.8880\n",
            "Epoch 16/25\n",
            "----------\n",
            "train Loss: 0.2216 Acc: 0.9106\n",
            "val Loss: 0.2714 Acc: 0.8900\n",
            "Epoch 17/25\n",
            "----------\n",
            "train Loss: 0.2205 Acc: 0.9094\n",
            "val Loss: 0.2651 Acc: 0.8896\n",
            "Epoch 18/25\n",
            "----------\n",
            "train Loss: 0.2112 Acc: 0.9146\n",
            "val Loss: 0.2640 Acc: 0.8903\n",
            "Epoch 19/25\n",
            "----------\n"
          ]
        }
      ]
    },
    {
      "cell_type": "code",
      "source": [
        "ls"
      ],
      "metadata": {
        "id": "aHNoB7UF1PgC",
        "outputId": "37b3906d-c97c-4494-ed61-cf012b9e27a6",
        "colab": {
          "base_uri": "https://localhost:8080/"
        }
      },
      "execution_count": null,
      "outputs": [
        {
          "output_type": "stream",
          "name": "stdout",
          "text": [
            " \u001b[0m\u001b[01;34mChameleonDataset\u001b[0m/  'Ethical Considerations.gdoc'  'Untitled Diagram.drawio'\n",
            " Chameleon.zip       \u001b[01;34mprocessedChameleon\u001b[0m/\n"
          ]
        }
      ]
    },
    {
      "cell_type": "markdown",
      "source": [
        "### Preprocess Chameleon Dataset\n",
        "- step 1: half of the real images (75-20-5)\n",
        "- step 2: half of the real images (70-20-5) and same amount of the fake images (75-20-5)"
      ],
      "metadata": {
        "id": "jrX5TyYIEO7F"
      }
    },
    {
      "cell_type": "code",
      "source": [
        "import matplotlib.pyplot as plt\n",
        "\n",
        "# Data from your logs\n",
        "epochs = range(1, 26)  # 25 epochs\n",
        "\n",
        "# Training and validation loss\n",
        "train_loss = [\n",
        "    0.4225, 0.3558, 0.3384, 0.3274, 0.3185, 0.3008, 0.2873, 0.2818, 0.2704, 0.2671,\n",
        "    0.2689, 0.2484, 0.2442, 0.2377, 0.2313, 0.2250, 0.2190, 0.2132, 0.2066, 0.2102,\n",
        "    0.1989, 0.1902, 0.1871, 0.1893, 0.1736\n",
        "]\n",
        "\n",
        "val_loss = [\n",
        "    0.3503, 0.3484, 0.3421, 0.3230, 0.3033, 0.3043, 0.2914, 0.2828, 0.2879, 0.2756,\n",
        "    0.3399, 0.2876, 0.2686, 0.2724, 0.2647, 0.2650, 0.2600, 0.2612, 0.2645, 0.2687,\n",
        "    0.2747, 0.2618, 0.2734, 0.2599, 0.2859\n",
        "]\n",
        "\n",
        "# Training and validation accuracy\n",
        "train_acc = [\n",
        "    0.8086, 0.8466, 0.8531, 0.8605, 0.8643, 0.8742, 0.8794, 0.8798, 0.8883, 0.8890,\n",
        "    0.8881, 0.8984, 0.8990, 0.9007, 0.9050, 0.9070, 0.9103, 0.9128, 0.9167, 0.9176,\n",
        "    0.9205, 0.9218, 0.9247, 0.9233, 0.9303\n",
        "]\n",
        "\n",
        "val_acc = [\n",
        "    0.8483, 0.8493, 0.8530, 0.8610, 0.8657, 0.8664, 0.8731, 0.8812, 0.8779, 0.8822,\n",
        "    0.8560, 0.8779, 0.8913, 0.8883, 0.8886, 0.8900, 0.8970, 0.8943, 0.8943, 0.8943,\n",
        "    0.8913, 0.8960, 0.8883, 0.8957, 0.8880\n",
        "]\n",
        "\n",
        "# Plotting Loss Curves\n",
        "plt.figure(figsize=(12, 5))\n",
        "\n",
        "# Loss plot\n",
        "plt.subplot(1, 2, 1)\n",
        "plt.plot(epochs, train_loss, label='Train Loss')\n",
        "plt.plot(epochs, val_loss, label='Validation Loss')\n",
        "plt.title('Training and Validation Loss')\n",
        "plt.xlabel('Epochs')\n",
        "plt.ylabel('Loss')\n",
        "plt.legend()\n",
        "\n",
        "# Accuracy plot\n",
        "plt.subplot(1, 2, 2)\n",
        "plt.plot(epochs, train_acc, label='Train Accuracy')\n",
        "plt.plot(epochs, val_acc, label='Validation Accuracy')\n",
        "plt.title('Training and Validation Accuracy')\n",
        "plt.xlabel('Epochs')\n",
        "plt.ylabel('Accuracy')\n",
        "plt.legend()\n",
        "\n",
        "plt.tight_layout()\n",
        "plt.show()"
      ],
      "metadata": {
        "id": "dVwLOgjUZ2bC",
        "outputId": "655177e4-aa27-4ee5-8c92-4e0bb1b0d851",
        "colab": {
          "base_uri": "https://localhost:8080/",
          "height": 348
        }
      },
      "execution_count": null,
      "outputs": [
        {
          "output_type": "display_data",
          "data": {
            "text/plain": [
              "<Figure size 1200x500 with 2 Axes>"
            ],
            "image/png": "[encoded data removed]"
          },
          "metadata": {}
        }
      ]
    }
  ]
}