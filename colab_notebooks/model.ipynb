{
  "nbformat": 4,
  "nbformat_minor": 0,
  "metadata": {
    "colab": {
      "provenance": [],
      "include_colab_link": true
    },
    "kernelspec": {
      "name": "python3",
      "display_name": "Python 3"
    },
    "language_info": {
      "name": "python"
    }
  },
  "cells": [
    {
      "cell_type": "markdown",
      "metadata": {
        "id": "view-in-github",
        "colab_type": "text"
      },
      "source": [
        "<a href=\"https://colab.research.google.com/github/WilliamJWen/Project42/blob/main/colab_notebooks/model.ipynb\" target=\"_parent\"><img src=\"https://colab.research.google.com/assets/colab-badge.svg\" alt=\"Open In Colab\"/></a>"
      ]
    },
    {
      "cell_type": "markdown",
      "source": [
        "**Project42: AI generated Image Detector**\n",
        "\n"
      ],
      "metadata": {
        "id": "CiQEstYgBC1E"
      }
    },
    {
      "cell_type": "markdown",
      "source": [
        "# Data Preprocessing"
      ],
      "metadata": {
        "id": "J-hg1Xwn-W2e"
      }
    },
    {
      "cell_type": "markdown",
      "source": [
        "# Baseline Model"
      ],
      "metadata": {
        "id": "_XEr_S_d-d3L"
      }
    },
    {
      "cell_type": "code",
      "source": [
        "import torch.nn as nn\n",
        "import torch.nn.functional as F\n",
        "\n",
        "\n",
        "class Baseline(nn.Module):\n",
        "  def __init__(self):\n",
        "    super(Baseline, self).__init__()\n",
        "\n",
        "    # Hidden layer activation\n",
        "    self.activation = F.relu\n",
        "\n",
        "    # Average pooling\n",
        "    self.pool2 = nn.AvgPool2d(kernel_size=2, stride=2) # 2w x 2h -> w x h\n",
        "    self.pool4 = nn.AvgPool2d(kernel_size=4, stride=4) # 4w x 4h -> w x h\n",
        "\n",
        "    # Convolutional layers\n",
        "    self.conv1 = nn.Conv2d(in_channels=3,\n",
        "                           out_channels=64,\n",
        "                           kernel_size=7,\n",
        "                           padding=3,\n",
        "                           stride=2)\n",
        "    self.conv2 = nn.Conv2d(in_channels=64,\n",
        "                           out_channels=64,\n",
        "                           kernel_size=3,\n",
        "                           padding=1,\n",
        "                           stride=1)\n",
        "    self.conv3 = nn.Conv2d(in_channels=64,\n",
        "                           out_channels=64,\n",
        "                           kernel_size=3,\n",
        "                           padding=1,\n",
        "                           stride=1)\n",
        "    self.conv4 = nn.Conv2d(in_channels=64,\n",
        "                           out_channels=128,\n",
        "                           kernel_size=3,\n",
        "                           padding=1,\n",
        "                           stride=2)\n",
        "    self.conv5 = nn.Conv2d(in_channels=128,\n",
        "                           out_channels=128,\n",
        "                           kernel_size=3,\n",
        "                           padding=1,\n",
        "                           stride=1)\n",
        "    self.conv6 = nn.Conv2d(in_channels=128,\n",
        "                           out_channels=256,\n",
        "                           kernel_size=3,\n",
        "                           padding=1,\n",
        "                           stride=2)\n",
        "    self.conv7 = nn.Conv2d(in_channels=256,\n",
        "                           out_channels=256,\n",
        "                           kernel_size=3,\n",
        "                           padding=1,\n",
        "                           stride=1)\n",
        "    self.conv8 = nn.Conv2d(in_channels=256,\n",
        "                           out_channels=512,\n",
        "                           kernel_size=3,\n",
        "                           padding=1,\n",
        "                           stride=2)\n",
        "    self.conv9 = nn.Conv2d(in_channels=512,\n",
        "                           out_channels=512,\n",
        "                           kernel_size=3,\n",
        "                           padding=1,\n",
        "                           stride=1)\n",
        "\n",
        "    # FC layer\n",
        "    self.fc = nn.Linear(512 * 2 * 2, 1)\n",
        "\n",
        "  def forward(self, x):\n",
        "    # Layer 1\n",
        "    x = self.conv1(x)                     # Output: 64x128x128\n",
        "    x = self.pool2(x)                     # Output: 64x64x64\n",
        "\n",
        "    # Layer 2\n",
        "    skip = x.detach().clone()\n",
        "    x = self.conv2(x)                     # Output: 64x64x64\n",
        "\n",
        "    # Layer 3\n",
        "    x = self.pool2(skip) + self.conv3(x)  # Output: 64x64x64\n",
        "\n",
        "    # Layer 4\n",
        "    skip = x.detach.clone()\n",
        "    x = self.conv4(x)                     # Output: 128x32x32\n",
        "\n",
        "    # Layer 5\n",
        "    x = self.pool2(skip) + self.conv5(x)  # Output: 128x32x32\n",
        "\n",
        "    # Layer 6\n",
        "    skip = x.detach.clone()\n",
        "    x = self.conv6(x)                     # Output: 256x16x16\n",
        "\n",
        "    # Layer 7\n",
        "    x = self.pool2(skip) + self.conv7(x)  # Output: 256x16x16\n",
        "\n",
        "    # Layer 8\n",
        "    skip = x.detach.clone()\n",
        "    x = self.conv8(x)                     # Output: 512x8x8\n",
        "\n",
        "    # Layer 9\n",
        "    x = self.pool2(skip) + self.conv9(x)  # Output: 512x8x8\n",
        "    x = self.pool4(x)\n",
        "\n",
        "    # Layer 10\n",
        "    x = x.view(-1, 512 * 6 * 6)\n",
        "    x = self.fc(x)\n",
        "    x = x.squeeze(1)\n",
        "\n",
        "    return x\n",
        "\n",
        "\n",
        "baseline_model = Baseline()\n",
        "num_params = 0\n",
        "for param in baseline_model.parameters():\n",
        "    num_params += param.numel()\n",
        "print(\"There are\", num_params, \"parameters in the baseline model\")\n"
      ],
      "metadata": {
        "id": "0Vtqb-BV-opL",
        "outputId": "11bc59a4-6c9b-4d6c-f415-86c6e11aa0a5",
        "colab": {
          "base_uri": "https://localhost:8080/"
        }
      },
      "execution_count": 3,
      "outputs": [
        {
          "output_type": "stream",
          "name": "stdout",
          "text": [
            "There are 4732033 parameters in the baseline model\n"
          ]
        }
      ]
    }
  ]
}