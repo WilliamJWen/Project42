{
  "nbformat": 4,
  "nbformat_minor": 0,
  "metadata": {
    "colab": {
      "provenance": [],
      "include_colab_link": true
    },
    "kernelspec": {
      "name": "python3",
      "display_name": "Python 3"
    },
    "language_info": {
      "name": "python"
    }
  },
  "cells": [
    {
      "cell_type": "markdown",
      "metadata": {
        "id": "view-in-github",
        "colab_type": "text"
      },
      "source": [
        "<a href=\"https://colab.research.google.com/github/WilliamJWen/Project42/blob/main/colab_notebooks/model.ipynb\" target=\"_parent\"><img src=\"https://colab.research.google.com/assets/colab-badge.svg\" alt=\"Open In Colab\"/></a>"
      ]
    },
    {
      "cell_type": "markdown",
      "source": [
        "**Project42: AI generated Image Detector**\n",
        "\n"
      ],
      "metadata": {
        "id": "CiQEstYgBC1E"
      }
    },
    {
      "cell_type": "markdown",
      "source": [
        "# Data Preprocessing"
      ],
      "metadata": {
        "id": "J-hg1Xwn-W2e"
      }
    },
    {
      "cell_type": "code",
      "source": [
        "# mount our Google Drive\n",
        "from google.colab import drive\n",
        "drive.mount('/content/drive')"
      ],
      "metadata": {
        "id": "cJINZH3ci1Y3",
        "outputId": "af8a69ec-c2a6-4263-8ece-e3a846a425f8",
        "colab": {
          "base_uri": "https://localhost:8080/"
        }
      },
      "execution_count": 17,
      "outputs": [
        {
          "output_type": "stream",
          "name": "stdout",
          "text": [
            "Mounted at /content/drive\n"
          ]
        }
      ]
    },
    {
      "cell_type": "code",
      "source": [
        "%cd /content/drive/MyDrive/Project 42"
      ],
      "metadata": {
        "id": "nb8T4qLwkz1l",
        "outputId": "cb0cae8a-3e74-441c-b696-f34622b4f8ec",
        "colab": {
          "base_uri": "https://localhost:8080/"
        }
      },
      "execution_count": 47,
      "outputs": [
        {
          "output_type": "stream",
          "name": "stdout",
          "text": [
            "/content/drive/MyDrive/Project 42\n"
          ]
        }
      ]
    },
    {
      "cell_type": "code",
      "source": [
        "ls"
      ],
      "metadata": {
        "id": "aHNoB7UF1PgC",
        "outputId": "e8ea9509-5ce1-4de6-a954-89573c6737ed",
        "colab": {
          "base_uri": "https://localhost:8080/"
        }
      },
      "execution_count": 48,
      "outputs": [
        {
          "output_type": "stream",
          "name": "stdout",
          "text": [
            " \u001b[0m\u001b[01;34mChameleonDataset\u001b[0m/  'Ethical Considerations.gdoc'  'Untitled Diagram.drawio'\n",
            " Chameleon.zip       \u001b[01;34mprocessedChameleon\u001b[0m/\n"
          ]
        }
      ]
    },
    {
      "cell_type": "markdown",
      "source": [
        "### Preprocess Chameleon Dataset\n",
        "- step 1: half of the real images (75-20-5)\n",
        "- step 2: half of the real images (70-20-5) and same amount of the fake images (75-20-5)"
      ],
      "metadata": {
        "id": "jrX5TyYIEO7F"
      }
    },
    {
      "cell_type": "code",
      "source": [
        "#######################################\n",
        "#### NO NEED TO RUN THIS PART AGAIN ####\n",
        "########################################\n",
        "\n",
        "import zipfile\n",
        "\n",
        "zip_path = '/content/drive/MyDrive/Project 42/Chameleon.zip'\n",
        "extract_to = '/content/destination_folder'\n",
        "\n",
        "with zipfile.ZipFile(zip_path, 'r') as zip_ref:\n",
        "    zip_ref.extractall(extract_to)\n"
      ],
      "metadata": {
        "id": "ue68MHXZCVfu"
      },
      "execution_count": 33,
      "outputs": []
    },
    {
      "cell_type": "code",
      "source": [
        "#######################################\n",
        "#### NO NEED TO RUN THIS PART AGAIN ####\n",
        "########################################\n",
        "\n",
        "import os\n",
        "import random\n",
        "import shutil\n",
        "from math import floor\n",
        "\n",
        "# -----------------------------\n",
        "# 1. Define Paths\n",
        "# -----------------------------\n",
        "# Path to the original dataset containing:\n",
        "#   - \"1_real\"\n",
        "#   - \"2_fake\"\n",
        "dataset_dir = \"/content/destination_folder/Chameleon/test\"  # CHANGE to your dataset location\n",
        "\n",
        "# Output directories for each step\n",
        "output_step1 = \"/content/drive/MyDrive/Project 42/processedChameleon/step1\"  # for step 1 (real only)\n",
        "output_step2 = \"/content/drive/MyDrive/Project 42/processedChameleon/step2\"  # for step 2 (real + fake)\n",
        "\n",
        "# Directories of real and fake images\n",
        "real_dir = os.path.join(dataset_dir, \"0_real\")\n",
        "fake_dir = os.path.join(dataset_dir, \"1_fake\")\n",
        "\n",
        "# -----------------------------\n",
        "# 2. Gather Image File Paths\n",
        "# -----------------------------\n",
        "valid_exts = (\".jpg\", \".jpeg\", \".png\", \".bmp\", \".tiff\")\n",
        "\n",
        "real_images = [os.path.join(real_dir, f) for f in os.listdir(real_dir)\n",
        "               if f.lower().endswith(valid_exts)]\n",
        "fake_images = [os.path.join(fake_dir, f) for f in os.listdir(fake_dir)\n",
        "               if f.lower().endswith(valid_exts)]\n",
        "\n",
        "# Shuffle images to randomize splits\n",
        "random.shuffle(real_images)\n",
        "random.shuffle(fake_images)\n",
        "\n",
        "print(f\"Found {len(real_images)} real images.\")\n",
        "print(f\"Found {len(fake_images)} fake images.\")\n",
        "\n",
        "# -----------------------------\n",
        "# 3. Split Real Images into Two Halves\n",
        "# -----------------------------\n",
        "half_real_count = len(real_images) // 2\n",
        "real_half_1 = real_images[:half_real_count]  # for step 1\n",
        "real_half_2 = real_images[half_real_count:]  # for step 2\n",
        "\n",
        "# -----------------------------\n",
        "# 4. Define Splitting Functions\n",
        "# -----------------------------\n",
        "def split_75_20_5(image_list):\n",
        "    \"\"\"\n",
        "    Splits a list of images into 75% train, 20% val, and 5% test.\n",
        "    \"\"\"\n",
        "    total = len(image_list)\n",
        "    train_end = floor(total * 0.75)\n",
        "    val_end = floor(total * 0.95)  # 75% + 20% = 95%\n",
        "    train = image_list[:train_end]\n",
        "    val = image_list[train_end:val_end]\n",
        "    test = image_list[val_end:]\n",
        "    return train, val, test\n",
        "\n",
        "def split_exact(image_list):\n",
        "    \"\"\"\n",
        "    Splits a list into exactly 75% train, 20% val, 5% test.\n",
        "    \"\"\"\n",
        "    total = len(image_list)\n",
        "    train_end = floor(total * 0.75)\n",
        "    val_end = floor(total * 0.95)\n",
        "    train = image_list[:train_end]\n",
        "    val = image_list[train_end:val_end]\n",
        "    test = image_list[val_end:]\n",
        "    return train, val, test\n",
        "\n",
        "# -----------------------------\n",
        "# 5. Create Step 1 Splits (Real Only)\n",
        "# -----------------------------\n",
        "train_real_1, val_real_1, test_real_1 = split_75_20_5(real_half_1)\n",
        "\n",
        "# -----------------------------\n",
        "# 6. Create Step 2 Splits (Balanced Real + Fake)\n",
        "# -----------------------------\n",
        "# Ensure that we have an equal number of fake images to match real_half_2\n",
        "required_fake = len(real_half_2)\n",
        "if required_fake > len(fake_images):\n",
        "    raise ValueError(\"Not enough fake images to match the second half of real images.\")\n",
        "\n",
        "# Use as many fake images as needed\n",
        "fake_for_step2 = fake_images[:required_fake]\n",
        "\n",
        "# Shuffle before splitting each class separately\n",
        "random.shuffle(real_half_2)\n",
        "random.shuffle(fake_for_step2)\n",
        "\n",
        "# Split each class individually\n",
        "train_real_2, val_real_2, test_real_2 = split_exact(real_half_2)\n",
        "train_fake,    val_fake,    test_fake    = split_exact(fake_for_step2)\n",
        "\n",
        "# Combine corresponding splits to ensure balance in each subset\n",
        "train_step2 = [(path, \"real\") for path in train_real_2] + [(path, \"fake\") for path in train_fake]\n",
        "val_step2   = [(path, \"real\") for path in val_real_2]   + [(path, \"fake\") for path in val_fake]\n",
        "test_step2  = [(path, \"real\") for path in test_real_2]  + [(path, \"fake\") for path in test_fake]\n",
        "\n",
        "# Shuffle the combined splits\n",
        "random.shuffle(train_step2)\n",
        "random.shuffle(val_step2)\n",
        "random.shuffle(test_step2)\n",
        "\n",
        "# -----------------------------\n",
        "# 7. Copy Files to Output Folders\n",
        "# -----------------------------\n",
        "def copy_files(file_list, output_dir, is_tuple=False):\n",
        "    \"\"\"\n",
        "    Copies files to output_dir under subdirectories for each class.\n",
        "    If is_tuple is True, each item is a (filepath, label) tuple.\n",
        "    Otherwise, all files are assumed to be 'real'.\n",
        "    \"\"\"\n",
        "    for item in file_list:\n",
        "        if is_tuple:\n",
        "            file_path, label = item\n",
        "        else:\n",
        "            file_path = item\n",
        "            label = \"real\"\n",
        "        dest_folder = os.path.join(output_dir, label)\n",
        "        os.makedirs(dest_folder, exist_ok=True)\n",
        "        file_name = os.path.basename(file_path)\n",
        "        shutil.copy2(file_path, os.path.join(dest_folder, file_name))\n",
        "\n",
        "# --- For Step 1 (real only) ---\n",
        "for split, files in zip([\"train\", \"val\", \"test\"], [train_real_1, val_real_1, test_real_1]):\n",
        "    out_dir = os.path.join(output_step1, split)\n",
        "    os.makedirs(out_dir, exist_ok=True)\n",
        "    copy_files(files, out_dir, is_tuple=False)\n",
        "\n",
        "# --- For Step 2 (balanced real and fake) ---\n",
        "for split, files in zip([\"train\", \"val\", \"test\"], [train_step2, val_step2, test_step2]):\n",
        "    out_dir = os.path.join(output_step2, split)\n",
        "    os.makedirs(out_dir, exist_ok=True)\n",
        "    copy_files(files, out_dir, is_tuple=True)\n",
        "\n",
        "print(\"Data successfully split and copied!\")\n"
      ],
      "metadata": {
        "id": "BJhMtThfylkN",
        "outputId": "0ad3cda8-91a7-4505-fb9b-d6e9958a8689",
        "colab": {
          "base_uri": "https://localhost:8080/"
        }
      },
      "execution_count": 36,
      "outputs": [
        {
          "output_type": "stream",
          "name": "stdout",
          "text": [
            "Found 14863 real images.\n",
            "Found 11170 fake images.\n",
            "Data successfully split and copied!\n"
          ]
        }
      ]
    },
    {
      "cell_type": "markdown",
      "source": [
        "Processed Data is at `/content/drive/MyDrive/Project\\ 42/processedChameleon` now."
      ],
      "metadata": {
        "id": "xihsxUjQHuhY"
      }
    },
    {
      "cell_type": "code",
      "source": [
        "!ls -1 /content/Project42/dataset/processedChameleon/step2/val/real | wc -l\n"
      ],
      "metadata": {
        "id": "3Sh5a8w9EiDB",
        "outputId": "e9dc53fd-868f-4267-e984-012828dc2f51",
        "colab": {
          "base_uri": "https://localhost:8080/"
        }
      },
      "execution_count": 46,
      "outputs": [
        {
          "output_type": "stream",
          "name": "stdout",
          "text": [
            "1486\n"
          ]
        }
      ]
    },
    {
      "cell_type": "code",
      "source": [
        "import os\n",
        "import torch\n",
        "from torchvision.datasets import ImageFolder\n",
        "from torchvision import transforms\n",
        "from torch.utils.data import DataLoader\n",
        "\n",
        "# set seed\n",
        "torch.random.manual_seed(42)\n",
        "\n",
        "\n",
        "# Define base path to processedChameleon\n",
        "base_dir = \"/content/drive/MyDrive/Project 42/processedChameleon\"\n",
        "step2_dir = os.path.join(base_dir, \"step2\")\n",
        "\n",
        "# Define directories for each split\n",
        "train_dir = os.path.join(step2_dir, \"train\")\n",
        "val_dir   = os.path.join(step2_dir, \"val\")\n",
        "test_dir  = os.path.join(step2_dir, \"test\")\n",
        "\n",
        "# Define image transforms\n",
        "transform = transforms.Compose([\n",
        "    transforms.Resize((256, 256)),\n",
        "    transforms.ToTensor(),\n",
        "    transforms.Normalize((0.5, 0.5, 0.5), (0.5, 0.5, 0.5)),\n",
        "])\n",
        "\n",
        "# Load datasets using ImageFolder\n",
        "train_dataset = ImageFolder(root=train_dir, transform=transform)\n",
        "val_dataset   = ImageFolder(root=val_dir, transform=transform)\n",
        "test_dataset  = ImageFolder(root=test_dir, transform=transform)\n",
        "\n",
        "# Create DataLoaders\n",
        "batch_size = 32\n",
        "\n",
        "train_loader = DataLoader(train_dataset, batch_size=batch_size, shuffle=True)\n",
        "val_loader   = DataLoader(val_dataset, batch_size=batch_size, shuffle=False)\n",
        "test_loader  = DataLoader(test_dataset, batch_size=batch_size, shuffle=False)\n",
        "\n",
        "print(\"Step 2 Train classes:\", train_dataset.classes)\n",
        "print(\"Step 2 Train samples:\", len(train_dataset))\n",
        "print(\"Step 2 Validation samples:\", len(val_dataset))\n",
        "print(\"Step 2 Test samples:\", len(test_dataset))\n"
      ],
      "metadata": {
        "id": "voIGF_1RIHeB",
        "outputId": "39796e25-862f-47df-e9f7-aabd84d01707",
        "colab": {
          "base_uri": "https://localhost:8080/"
        }
      },
      "execution_count": 51,
      "outputs": [
        {
          "output_type": "stream",
          "name": "stdout",
          "text": [
            "Step 2 Train classes: ['fake', 'real']\n",
            "Step 2 Train samples: 11148\n",
            "Step 2 Validation samples: 2972\n",
            "Step 2 Test samples: 744\n"
          ]
        }
      ]
    },
    {
      "cell_type": "code",
      "source": [],
      "metadata": {
        "id": "689f-sZkqzlI"
      },
      "execution_count": 24,
      "outputs": []
    },
    {
      "cell_type": "markdown",
      "source": [
        "# Baseline Model"
      ],
      "metadata": {
        "id": "_XEr_S_d-d3L"
      }
    },
    {
      "cell_type": "markdown",
      "source": [
        "# Primary Model"
      ],
      "metadata": {
        "id": "zti4Wy-CITB9"
      }
    },
    {
      "cell_type": "code",
      "source": [
        "import torch.nn as nn\n",
        "import torch.nn.functional as F\n",
        "\n",
        "\n",
        "class Baseline(nn.Module):\n",
        "  def __init__(self):\n",
        "    super(Baseline, self).__init__()\n",
        "\n",
        "    # Hidden layer activation\n",
        "    self.activation = F.relu\n",
        "\n",
        "    # Average pooling\n",
        "    self.pool2 = nn.AvgPool2d(kernel_size=2, stride=2) # 2w x 2h -> w x h\n",
        "    self.pool4 = nn.AvgPool2d(kernel_size=4, stride=4) # 4w x 4h -> w x h\n",
        "\n",
        "    # Convolutional layers\n",
        "    self.conv1 = nn.Conv2d(in_channels=3,\n",
        "                           out_channels=64,\n",
        "                           kernel_size=7,\n",
        "                           padding=3,\n",
        "                           stride=2)\n",
        "    self.conv2 = nn.Conv2d(in_channels=64,\n",
        "                           out_channels=64,\n",
        "                           kernel_size=3,\n",
        "                           padding=1,\n",
        "                           stride=1)\n",
        "    self.conv3 = nn.Conv2d(in_channels=64,\n",
        "                           out_channels=64,\n",
        "                           kernel_size=3,\n",
        "                           padding=1,\n",
        "                           stride=1)\n",
        "    self.conv4 = nn.Conv2d(in_channels=64,\n",
        "                           out_channels=128,\n",
        "                           kernel_size=3,\n",
        "                           padding=1,\n",
        "                           stride=2)\n",
        "    self.conv5 = nn.Conv2d(in_channels=128,\n",
        "                           out_channels=128,\n",
        "                           kernel_size=3,\n",
        "                           padding=1,\n",
        "                           stride=1)\n",
        "    self.conv6 = nn.Conv2d(in_channels=128,\n",
        "                           out_channels=256,\n",
        "                           kernel_size=3,\n",
        "                           padding=1,\n",
        "                           stride=2)\n",
        "    self.conv7 = nn.Conv2d(in_channels=256,\n",
        "                           out_channels=256,\n",
        "                           kernel_size=3,\n",
        "                           padding=1,\n",
        "                           stride=1)\n",
        "    self.conv8 = nn.Conv2d(in_channels=256,\n",
        "                           out_channels=512,\n",
        "                           kernel_size=3,\n",
        "                           padding=1,\n",
        "                           stride=2)\n",
        "    self.conv9 = nn.Conv2d(in_channels=512,\n",
        "                           out_channels=512,\n",
        "                           kernel_size=3,\n",
        "                           padding=1,\n",
        "                           stride=1)\n",
        "\n",
        "    # FC layer\n",
        "    self.fc = nn.Linear(512 * 2 * 2, 1)\n",
        "\n",
        "\n",
        "  def forward(self, x):\n",
        "    # Layer 1\n",
        "    x = self.conv1(x)                     # Output: 64x128x128\n",
        "    x = self.pool2(x)                     # Output: 64x64x64\n",
        "\n",
        "    # Layer 2\n",
        "    skip = x.detach().clone()\n",
        "    x = self.conv2(x)                     # Output: 64x64x64\n",
        "\n",
        "    # Layer 3\n",
        "    x = self.pool2(skip) + self.conv3(x)  # Output: 64x64x64\n",
        "\n",
        "    # Layer 4\n",
        "    skip = x.detach.clone()\n",
        "    x = self.conv4(x)                     # Output: 128x32x32\n",
        "\n",
        "    # Layer 5\n",
        "    x = self.pool2(skip) + self.conv5(x)  # Output: 128x32x32\n",
        "\n",
        "    # Layer 6\n",
        "    skip = x.detach.clone()\n",
        "    x = self.conv6(x)                     # Output: 256x16x16\n",
        "\n",
        "    # Layer 7\n",
        "    x = self.pool2(skip) + self.conv7(x)  # Output: 256x16x16\n",
        "\n",
        "    # Layer 8\n",
        "    skip = x.detach.clone()\n",
        "    x = self.conv8(x)                     # Output: 512x8x8\n",
        "\n",
        "    # Layer 9\n",
        "    x = self.pool2(skip) + self.conv9(x)  # Output: 512x8x8\n",
        "    x = self.pool4(x)                     # Output: 512x2x2\n",
        "\n",
        "    # Layer 10\n",
        "    x = x.view(-1, 512 * 2 * 2)\n",
        "    x = self.fc(x)\n",
        "    x = x.squeeze(1)\n",
        "\n",
        "    return x\n",
        "\n",
        "\n",
        "baseline_model = Baseline()\n",
        "num_params = 0\n",
        "for param in baseline_model.parameters():\n",
        "    num_params += param.numel()\n",
        "print(\"There are\", num_params, \"parameters in the baseline model\")\n"
      ],
      "metadata": {
        "colab": {
          "base_uri": "https://localhost:8080/"
        },
        "id": "0Vtqb-BV-opL",
        "outputId": "11bc59a4-6c9b-4d6c-f415-86c6e11aa0a5"
      },
      "execution_count": null,
      "outputs": [
        {
          "output_type": "stream",
          "name": "stdout",
          "text": [
            "There are 4732033 parameters in the baseline model\n"
          ]
        }
      ]
    },
    {
      "cell_type": "markdown",
      "source": [
        "## Training"
      ],
      "metadata": {
        "id": "Iv_k_sZxIVY7"
      }
    },
    {
      "cell_type": "markdown",
      "source": [
        "### Non-Baseline-Specific Functions"
      ],
      "metadata": {
        "id": "qdvuNd0iKlt7"
      }
    },
    {
      "cell_type": "code",
      "source": [
        "import matplotlib.pyplot as plt\n",
        "import torch\n",
        "\n",
        "\n",
        "# Plot training curve from model path\n",
        "def plot_training_curve(path):\n",
        "  train_err = np.loadtxt(\"{}_train_err.csv\".format(path))\n",
        "  val_err = np.loadtxt(\"{}_val_err.csv\".format(path))\n",
        "  train_loss = np.loadtxt(\"{}_train_loss.csv\".format(path))\n",
        "  val_loss = np.loadtxt(\"{}_val_loss.csv\".format(path))\n",
        "  plt.title(\"Train vs Validation Error\")\n",
        "  n = len(train_err) # number of epochs\n",
        "  plt.plot(range(1, n + 1), train_err, label=\"Train\")\n",
        "  plt.plot(range(1, n + 1), val_err, label=\"Validation\")\n",
        "  plt.xlabel(\"Epoch\")\n",
        "  plt.ylabel(\"Error\")\n",
        "  plt.legend(loc='best')\n",
        "  plt.show()\n",
        "  plt.title(\"Train vs Validation Loss\")\n",
        "  plt.plot(range(1, n + 1), train_loss, label=\"Train\")\n",
        "  plt.plot(range(1, n + 1), val_loss, label=\"Validation\")\n",
        "  plt.xlabel(\"Epoch\")\n",
        "  plt.ylabel(\"Loss\")\n",
        "  plt.legend(loc='best')\n",
        "  plt.show()\n",
        "\n",
        "\n",
        "# Given a tensor containing 2 possible values, normalize this to 0/1\n",
        "def normalize_label(labels):\n",
        "  max_val = torch.max(labels)\n",
        "  min_val = torch.min(labels)\n",
        "  norm_labels = (labels - min_val)/(max_val - min_val)\n",
        "  return norm_labels\n"
      ],
      "metadata": {
        "id": "a1hfbJKSIX2L"
      },
      "execution_count": null,
      "outputs": []
    },
    {
      "cell_type": "markdown",
      "source": [
        "### Baseline-Specific Functions"
      ],
      "metadata": {
        "id": "N5tKAL7EKs9R"
      }
    },
    {
      "cell_type": "code",
      "source": [
        "import numpy as np\n",
        "import time\n",
        "import torch.optim as optim\n",
        "from torch.utils.data import DataLoader\n",
        "\n",
        "\n",
        "# Get name of baseline model checkpoint\n",
        "def get_baseline_name(epoch):\n",
        "  path = \"model_baseline_epoch{0}\".format(epoch)\n",
        "  return path\n",
        "\n",
        "\n",
        "# Evaluate data from loader on net\n",
        "def evaluate_baseline(net, loader):\n",
        "  # Enable GPU usage\n",
        "  if torch.cuda.is_available():\n",
        "    net = net.cuda()\n",
        "\n",
        "  total_loss = 0.0\n",
        "  total_err = 0.0\n",
        "  num_samples = 0\n",
        "\n",
        "  criterion = nn.BinaryCrossEntropy()\n",
        "\n",
        "  for i, data in enumerate(loader):\n",
        "    imgs, labels = data\n",
        "    labels = normalize_label(labels)\n",
        "    num_samples += len(labels)\n",
        "\n",
        "    # Enable GPU usage\n",
        "    if torch.cuda.is_available():\n",
        "      imgs = imgs.cuda()\n",
        "      labels = labels.cuda()\n",
        "\n",
        "    # Forward pass\n",
        "    outputs = net(imgs)\n",
        "    loss = criterion(outputs, labels)\n",
        "\n",
        "    # Update loss, error\n",
        "    total_loss += loss.item()\n",
        "    for pred, label in zip(outputs, labels):\n",
        "      if pred != label:\n",
        "        total_err += 1\n",
        "\n",
        "  err = float(total_err) / num_samples\n",
        "  loss = float(total_loss) / len(loader)\n",
        "\n",
        "  return err, loss\n",
        "\n",
        "\n",
        "# Train baseline model on given datasets\n",
        "def train_baseline(net, train_set, val_set):\n",
        "  torch.manual_seed(1000)\n",
        "\n",
        "  # Note: we want to train over 3000 iterations. For now, I assume a batch size\n",
        "  # of ~6k, meaning there will be ~100 iterations/per epoch, so I am using 30\n",
        "  # epochs.\n",
        "\n",
        "  # Enable GPU usage\n",
        "  if torch.cuda.is_available():\n",
        "    net = net.cuda()\n",
        "\n",
        "  # Hyperparameters\n",
        "  batch_size = 64\n",
        "  initial_learning_rate = 0.01\n",
        "  num_epochs = 30\n",
        "\n",
        "  # Criterion\n",
        "  criterion = nn.BinaryCrossEntropy()\n",
        "\n",
        "  # Optimizer\n",
        "  betas = (0.9, 0.99)\n",
        "  milestones = [10, 20]\n",
        "  lr_factor = 0.1\n",
        "  optimizer = optim.Adam(net.parameters(),\n",
        "                         lr=initial_learning_rate,\n",
        "                         betas=betas)\n",
        "  learning_rate_schedule = optim.lr_scheduler.MultiStepLR(optimizer,\n",
        "                                                          milestones=milestones,\n",
        "                                                          gamma=lr_factor)\n",
        "\n",
        "  # Arrays to record loss and error\n",
        "  train_err = np.zeros(num_epochs)\n",
        "  train_loss = np.zeros(num_epochs)\n",
        "  val_err = np.zeros(num_epochs)\n",
        "  val_loss = np.zeros(num_epochs)\n",
        "\n",
        "  # Load data\n",
        "  train_loader = DataLoader(train_set, batch_size=batch_size, shuffle=True)\n",
        "  val_loader = DataLoader(val_set, batch_size=batch_size, shuffle=False)\n",
        "\n",
        "  # Train\n",
        "  start_time = time.time()\n",
        "  for epoch in range(num_epochs):\n",
        "    total_train_loss = 0.0\n",
        "    total_train_err = 0.0\n",
        "    num_samples = 0\n",
        "\n",
        "    # Iterate through mini batches\n",
        "    for i, data in enumerate(train_loader):\n",
        "      imgs, labels = data\n",
        "      num_samples += len(labels)\n",
        "\n",
        "      # Enable GPU usage\n",
        "      if torch.cuda.is_available():\n",
        "        imgs = imgs.cuda()\n",
        "        labels = labels.cuda()\n",
        "\n",
        "      # Forward pass, backward pass, update\n",
        "      optimizer.zero_grad()\n",
        "      outputs = net(imgs)\n",
        "      loss = criterion(outputs, labels)\n",
        "      loss.backward()\n",
        "      optimizer.step()\n",
        "\n",
        "      # Update training loss, error\n",
        "      total_loss += loss.item()\n",
        "      for pred, label in zip(outputs, labels):\n",
        "        if pred != label:\n",
        "          total_err += 1\n",
        "\n",
        "    # Calculate total loss, error\n",
        "    train_err[epoch] = total_train_err / num_samples\n",
        "    train_loss[epoch] = total_train_loss / len(train_loader)\n",
        "    val_err[epoch], val_loss[epoch] = evaluate_baseline(net,\n",
        "                                                        val_loader,\n",
        "                                                        criterion)\n",
        "\n",
        "    # Print loss, error\n",
        "    print((\"Epoch {}: Train err: {}, Train loss: {} | \" +\n",
        "           \"Validation err: {}, Validation loss: {}\").format(\n",
        "              epoch + 1,\n",
        "              train_err[epoch],\n",
        "              train_loss[epoch],\n",
        "              val_err[epoch],\n",
        "              val_loss[epoch]))\n",
        "\n",
        "    # Save the current model (checkpoint) to a file\n",
        "    model_path = get_baseline_name(epoch + 1)\n",
        "    torch.save(net.state_dict(), model_path)\n",
        "\n",
        "    # Update LR scheduler\n",
        "    learning_rate_schedule.step()\n",
        "\n",
        "  # Finish up\n",
        "  print('Finished Training')\n",
        "  end_time = time.time()\n",
        "  elapsed_time = end_time - start_time\n",
        "  print(\"Total time elapsed: {:.2f} seconds\".format(elapsed_time))\n",
        "\n",
        "  # Write the train/test loss/err into CSV file for plotting later\n",
        "  np.savetxt(\"{}_train_err.csv\".format(model_path), train_err)\n",
        "  np.savetxt(\"{}_train_loss.csv\".format(model_path), train_loss)\n",
        "  np.savetxt(\"{}_val_err.csv\".format(model_path), val_err)\n",
        "  np.savetxt(\"{}_val_loss.csv\".format(model_path), val_loss)\n"
      ],
      "metadata": {
        "id": "milhjywFKxiX"
      },
      "execution_count": null,
      "outputs": []
    }
  ]
}