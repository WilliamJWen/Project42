{
  "nbformat": 4,
  "nbformat_minor": 0,
  "metadata": {
    "colab": {
      "provenance": [],
      "machine_shape": "hm",
      "gpuType": "A100",
      "include_colab_link": true
    },
    "kernelspec": {
      "name": "python3",
      "display_name": "Python 3"
    },
    "language_info": {
      "name": "python"
    },
    "accelerator": "GPU"
  },
  "cells": [
    {
      "cell_type": "markdown",
      "metadata": {
        "id": "view-in-github",
        "colab_type": "text"
      },
      "source": [
        "<a href=\"https://colab.research.google.com/github/WilliamJWen/Project42/blob/main/colab_notebooks/model.ipynb\" target=\"_parent\"><img src=\"https://colab.research.google.com/assets/colab-badge.svg\" alt=\"Open In Colab\"/></a>"
      ]
    },
    {
      "cell_type": "markdown",
      "source": [
        "**Project42: AI generated Image Detector**\n",
        "\n"
      ],
      "metadata": {
        "id": "CiQEstYgBC1E"
      }
    },
    {
      "cell_type": "markdown",
      "source": [
        "# Data Preprocessing"
      ],
      "metadata": {
        "id": "J-hg1Xwn-W2e"
      }
    },
    {
      "cell_type": "code",
      "source": [
        "# mount our Google Drive\n",
        "from google.colab import drive\n",
        "drive.mount('/content/drive')"
      ],
      "metadata": {
        "id": "cJINZH3ci1Y3",
        "outputId": "45f876a8-fe9d-4687-c490-f596306ce117",
        "colab": {
          "base_uri": "https://localhost:8080/"
        }
      },
      "execution_count": 1,
      "outputs": [
        {
          "output_type": "stream",
          "name": "stdout",
          "text": [
            "Mounted at /content/drive\n"
          ]
        }
      ]
    },
    {
      "cell_type": "code",
      "source": [
        "%cd /content/drive/MyDrive/Project 42"
      ],
      "metadata": {
        "id": "nb8T4qLwkz1l",
        "outputId": "6b6b59a9-3447-4c64-84d2-622f2929bbac",
        "colab": {
          "base_uri": "https://localhost:8080/"
        }
      },
      "execution_count": 2,
      "outputs": [
        {
          "output_type": "stream",
          "name": "stdout",
          "text": [
            "/content/drive/.shortcut-targets-by-id/10mb1gPJLJgRacbxehHwFsW4qyNo6j-JS/Project 42\n"
          ]
        }
      ]
    },
    {
      "cell_type": "code",
      "source": [
        "ls"
      ],
      "metadata": {
        "id": "aHNoB7UF1PgC",
        "outputId": "687d3305-06b9-4737-abd4-97024c8b123d",
        "colab": {
          "base_uri": "https://localhost:8080/"
        }
      },
      "execution_count": 3,
      "outputs": [
        {
          "output_type": "stream",
          "name": "stdout",
          "text": [
            " \u001b[0m\u001b[01;34mChameleonDataset\u001b[0m/  'Ethical Considerations.gdoc'  'Untitled Diagram.drawio'\n",
            " Chameleon.zip       \u001b[01;34mprocessedChameleon\u001b[0m/\n"
          ]
        }
      ]
    },
    {
      "cell_type": "markdown",
      "source": [
        "### Preprocess Chameleon Dataset\n",
        "- step 1: half of the real images (75-20-5)\n",
        "- step 2: half of the real images (70-20-5) and same amount of the fake images (75-20-5)"
      ],
      "metadata": {
        "id": "jrX5TyYIEO7F"
      }
    },
    {
      "cell_type": "code",
      "source": [
        "#######################################\n",
        "#### NO NEED TO RUN THIS PART AGAIN ####\n",
        "########################################\n",
        "\n",
        "import zipfile\n",
        "\n",
        "zip_path = '/content/drive/MyDrive/Project 42/Chameleon.zip'\n",
        "extract_to = '/content/destination_folder'\n",
        "\n",
        "with zipfile.ZipFile(zip_path, 'r') as zip_ref:\n",
        "    zip_ref.extractall(extract_to)\n"
      ],
      "metadata": {
        "id": "ue68MHXZCVfu"
      },
      "execution_count": null,
      "outputs": []
    },
    {
      "cell_type": "code",
      "source": [
        "#######################################\n",
        "#### NO NEED TO RUN THIS PART AGAIN ####\n",
        "########################################\n",
        "\n",
        "import os\n",
        "import random\n",
        "import shutil\n",
        "from math import floor\n",
        "\n",
        "# -----------------------------\n",
        "# 1. Define Paths\n",
        "# -----------------------------\n",
        "# Path to the original dataset containing:\n",
        "#   - \"1_real\"\n",
        "#   - \"2_fake\"\n",
        "dataset_dir = \"/content/destination_folder/Chameleon/test\"  # CHANGE to your dataset location\n",
        "\n",
        "# Output directories for each step\n",
        "output_step1 = \"/content/drive/MyDrive/Project 42/processedChameleon/step1\"  # for step 1 (real only)\n",
        "output_step2 = \"/content/drive/MyDrive/Project 42/processedChameleon/step2\"  # for step 2 (real + fake)\n",
        "\n",
        "# Directories of real and fake images\n",
        "real_dir = os.path.join(dataset_dir, \"0_real\")\n",
        "fake_dir = os.path.join(dataset_dir, \"1_fake\")\n",
        "\n",
        "# -----------------------------\n",
        "# 2. Gather Image File Paths\n",
        "# -----------------------------\n",
        "valid_exts = (\".jpg\", \".jpeg\", \".png\", \".bmp\", \".tiff\")\n",
        "\n",
        "real_images = [os.path.join(real_dir, f) for f in os.listdir(real_dir)\n",
        "               if f.lower().endswith(valid_exts)]\n",
        "fake_images = [os.path.join(fake_dir, f) for f in os.listdir(fake_dir)\n",
        "               if f.lower().endswith(valid_exts)]\n",
        "\n",
        "# Shuffle images to randomize splits\n",
        "random.shuffle(real_images)\n",
        "random.shuffle(fake_images)\n",
        "\n",
        "print(f\"Found {len(real_images)} real images.\")\n",
        "print(f\"Found {len(fake_images)} fake images.\")\n",
        "\n",
        "# -----------------------------\n",
        "# 3. Split Real Images into Two Halves\n",
        "# -----------------------------\n",
        "half_real_count = len(real_images) // 2\n",
        "real_half_1 = real_images[:half_real_count]  # for step 1\n",
        "real_half_2 = real_images[half_real_count:]  # for step 2\n",
        "\n",
        "# -----------------------------\n",
        "# 4. Define Splitting Functions\n",
        "# -----------------------------\n",
        "def split_75_20_5(image_list):\n",
        "    \"\"\"\n",
        "    Splits a list of images into 75% train, 20% val, and 5% test.\n",
        "    \"\"\"\n",
        "    total = len(image_list)\n",
        "    train_end = floor(total * 0.75)\n",
        "    val_end = floor(total * 0.95)  # 75% + 20% = 95%\n",
        "    train = image_list[:train_end]\n",
        "    val = image_list[train_end:val_end]\n",
        "    test = image_list[val_end:]\n",
        "    return train, val, test\n",
        "\n",
        "def split_exact(image_list):\n",
        "    \"\"\"\n",
        "    Splits a list into exactly 75% train, 20% val, 5% test.\n",
        "    \"\"\"\n",
        "    total = len(image_list)\n",
        "    train_end = floor(total * 0.75)\n",
        "    val_end = floor(total * 0.95)\n",
        "    train = image_list[:train_end]\n",
        "    val = image_list[train_end:val_end]\n",
        "    test = image_list[val_end:]\n",
        "    return train, val, test\n",
        "\n",
        "# -----------------------------\n",
        "# 5. Create Step 1 Splits (Real Only)\n",
        "# -----------------------------\n",
        "train_real_1, val_real_1, test_real_1 = split_75_20_5(real_half_1)\n",
        "\n",
        "# -----------------------------\n",
        "# 6. Create Step 2 Splits (Balanced Real + Fake)\n",
        "# -----------------------------\n",
        "# Ensure that we have an equal number of fake images to match real_half_2\n",
        "required_fake = len(real_half_2)\n",
        "if required_fake > len(fake_images):\n",
        "    raise ValueError(\"Not enough fake images to match the second half of real images.\")\n",
        "\n",
        "# Use as many fake images as needed\n",
        "fake_for_step2 = fake_images[:required_fake]\n",
        "\n",
        "# Shuffle before splitting each class separately\n",
        "random.shuffle(real_half_2)\n",
        "random.shuffle(fake_for_step2)\n",
        "\n",
        "# Split each class individually\n",
        "train_real_2, val_real_2, test_real_2 = split_exact(real_half_2)\n",
        "train_fake,    val_fake,    test_fake    = split_exact(fake_for_step2)\n",
        "\n",
        "# Combine corresponding splits to ensure balance in each subset\n",
        "train_step2 = [(path, \"real\") for path in train_real_2] + [(path, \"fake\") for path in train_fake]\n",
        "val_step2   = [(path, \"real\") for path in val_real_2]   + [(path, \"fake\") for path in val_fake]\n",
        "test_step2  = [(path, \"real\") for path in test_real_2]  + [(path, \"fake\") for path in test_fake]\n",
        "\n",
        "# Shuffle the combined splits\n",
        "random.shuffle(train_step2)\n",
        "random.shuffle(val_step2)\n",
        "random.shuffle(test_step2)\n",
        "\n",
        "# -----------------------------\n",
        "# 7. Copy Files to Output Folders\n",
        "# -----------------------------\n",
        "def copy_files(file_list, output_dir, is_tuple=False):\n",
        "    \"\"\"\n",
        "    Copies files to output_dir under subdirectories for each class.\n",
        "    If is_tuple is True, each item is a (filepath, label) tuple.\n",
        "    Otherwise, all files are assumed to be 'real'.\n",
        "    \"\"\"\n",
        "    for item in file_list:\n",
        "        if is_tuple:\n",
        "            file_path, label = item\n",
        "        else:\n",
        "            file_path = item\n",
        "            label = \"real\"\n",
        "        dest_folder = os.path.join(output_dir, label)\n",
        "        os.makedirs(dest_folder, exist_ok=True)\n",
        "        file_name = os.path.basename(file_path)\n",
        "        shutil.copy2(file_path, os.path.join(dest_folder, file_name))\n",
        "\n",
        "# --- For Step 1 (real only) ---\n",
        "for split, files in zip([\"train\", \"val\", \"test\"], [train_real_1, val_real_1, test_real_1]):\n",
        "    out_dir = os.path.join(output_step1, split)\n",
        "    os.makedirs(out_dir, exist_ok=True)\n",
        "    copy_files(files, out_dir, is_tuple=False)\n",
        "\n",
        "# --- For Step 2 (balanced real and fake) ---\n",
        "for split, files in zip([\"train\", \"val\", \"test\"], [train_step2, val_step2, test_step2]):\n",
        "    out_dir = os.path.join(output_step2, split)\n",
        "    os.makedirs(out_dir, exist_ok=True)\n",
        "    copy_files(files, out_dir, is_tuple=True)\n",
        "\n",
        "print(\"Data successfully split and copied!\")\n"
      ],
      "metadata": {
        "id": "BJhMtThfylkN",
        "outputId": "0ad3cda8-91a7-4505-fb9b-d6e9958a8689",
        "colab": {
          "base_uri": "https://localhost:8080/"
        }
      },
      "execution_count": null,
      "outputs": [
        {
          "output_type": "stream",
          "name": "stdout",
          "text": [
            "Found 14863 real images.\n",
            "Found 11170 fake images.\n",
            "Data successfully split and copied!\n"
          ]
        }
      ]
    },
    {
      "cell_type": "markdown",
      "source": [
        "Processed Data is at `/content/drive/MyDrive/Project\\ 42/processedChameleon` now."
      ],
      "metadata": {
        "id": "xihsxUjQHuhY"
      }
    },
    {
      "cell_type": "code",
      "source": [
        "!ls -1 /content/Project42/processedChameleon/step2/val/real | wc -l\n"
      ],
      "metadata": {
        "id": "3Sh5a8w9EiDB",
        "outputId": "b476c115-5c83-400d-a98f-b55459254357",
        "colab": {
          "base_uri": "https://localhost:8080/"
        }
      },
      "execution_count": 6,
      "outputs": [
        {
          "output_type": "stream",
          "name": "stdout",
          "text": [
            "ls: cannot access '/content/Project42/processedChameleon/step2/val/real': No such file or directory\n",
            "0\n"
          ]
        }
      ]
    },
    {
      "cell_type": "code",
      "source": [
        "import os\n",
        "import torch\n",
        "from torchvision.datasets import ImageFolder\n",
        "from torchvision import transforms\n",
        "from torch.utils.data import DataLoader\n",
        "\n",
        "# set seed\n",
        "torch.random.manual_seed(42)\n",
        "\n",
        "\n",
        "# Define base path to processedChameleon\n",
        "base_dir = \"/content/drive/MyDrive/Project 42/processedChameleon\"\n",
        "step2_dir = os.path.join(base_dir, \"step2\")\n",
        "\n",
        "# Define directories for each split\n",
        "train_dir = os.path.join(step2_dir, \"train\")\n",
        "val_dir   = os.path.join(step2_dir, \"val\")\n",
        "test_dir  = os.path.join(step2_dir, \"test\")\n",
        "\n",
        "# Define image transforms\n",
        "transform = transforms.Compose([\n",
        "    transforms.Resize((256, 256)),\n",
        "    transforms.ToTensor(),\n",
        "    transforms.Normalize((0.5, 0.5, 0.5), (0.5, 0.5, 0.5)),\n",
        "])\n",
        "\n",
        "# Load datasets using ImageFolder\n",
        "train_dataset = ImageFolder(root=train_dir, transform=transform)\n",
        "val_dataset   = ImageFolder(root=val_dir, transform=transform)\n",
        "test_dataset  = ImageFolder(root=test_dir, transform=transform)\n",
        "\n",
        "# Create DataLoaders\n",
        "batch_size = 64\n",
        "\n",
        "train_loader = DataLoader(train_dataset, batch_size=batch_size, shuffle=True)\n",
        "val_loader   = DataLoader(val_dataset, batch_size=batch_size, shuffle=False)\n",
        "test_loader  = DataLoader(test_dataset, batch_size=batch_size, shuffle=False)\n",
        "\n",
        "print(\"Step 2 Train classes:\", train_dataset.classes)\n",
        "print(\"Step 2 Train samples:\", len(train_dataset))\n",
        "print(\"Step 2 Validation samples:\", len(val_dataset))\n",
        "print(\"Step 2 Test samples:\", len(test_dataset))\n"
      ],
      "metadata": {
        "id": "voIGF_1RIHeB",
        "outputId": "81809e57-9b5b-4775-99b6-3dc36c6bbcc6",
        "colab": {
          "base_uri": "https://localhost:8080/"
        }
      },
      "execution_count": 25,
      "outputs": [
        {
          "output_type": "stream",
          "name": "stdout",
          "text": [
            "Step 2 Train classes: ['fake', 'real']\n",
            "Step 2 Train samples: 11148\n",
            "Step 2 Validation samples: 2972\n",
            "Step 2 Test samples: 744\n"
          ]
        }
      ]
    },
    {
      "cell_type": "code",
      "source": [
        "def get_data_loaders_step2(batch_size=64):\n",
        "  train_loader = DataLoader(train_dataset, batch_size=batch_size, shuffle=True)\n",
        "  val_loader   = DataLoader(val_dataset, batch_size=batch_size, shuffle=False)\n",
        "  test_loader  = DataLoader(test_dataset, batch_size=batch_size, shuffle=False)\n",
        "\n",
        "  return train_loader, val_loader, test_loader"
      ],
      "metadata": {
        "id": "689f-sZkqzlI"
      },
      "execution_count": 27,
      "outputs": []
    },
    {
      "cell_type": "markdown",
      "source": [
        "# Baseline Model"
      ],
      "metadata": {
        "id": "_XEr_S_d-d3L"
      }
    },
    {
      "cell_type": "markdown",
      "source": [
        "## Architecture"
      ],
      "metadata": {
        "id": "zti4Wy-CITB9"
      }
    },
    {
      "cell_type": "code",
      "source": [
        "import torch.nn as nn\n",
        "import torch.nn.functional as F\n",
        "\n",
        "\n",
        "class Baseline(nn.Module):\n",
        "  def __init__(self):\n",
        "    super(Baseline, self).__init__()\n",
        "\n",
        "    # Hidden layer activation\n",
        "    self.activation = F.relu\n",
        "\n",
        "    # Pooling\n",
        "    self.maxpool2 = nn.MaxPool2d(kernel_size=2, stride=2) # 2w x 2h -> w x h\n",
        "    self.avgpool4 = nn.AvgPool2d(kernel_size=4, stride=4) # 4w x 4h -> w x h\n",
        "\n",
        "    # Convolutional layers\n",
        "    self.conv1 = nn.Conv2d(in_channels=3,\n",
        "                           out_channels=64,\n",
        "                           kernel_size=7,\n",
        "                           padding=3,\n",
        "                           stride=2)\n",
        "    self.conv2 = nn.Conv2d(in_channels=64,\n",
        "                           out_channels=64,\n",
        "                           kernel_size=3,\n",
        "                           padding=1,\n",
        "                           stride=1)\n",
        "    self.conv3 = nn.Conv2d(in_channels=64,\n",
        "                           out_channels=64,\n",
        "                           kernel_size=3,\n",
        "                           padding=1,\n",
        "                           stride=1)\n",
        "    self.conv4 = nn.Conv2d(in_channels=64,\n",
        "                           out_channels=128,\n",
        "                           kernel_size=3,\n",
        "                           padding=1,\n",
        "                           stride=2)\n",
        "    self.conv5 = nn.Conv2d(in_channels=128,\n",
        "                           out_channels=128,\n",
        "                           kernel_size=3,\n",
        "                           padding=1,\n",
        "                           stride=1)\n",
        "    self.conv6 = nn.Conv2d(in_channels=128,\n",
        "                           out_channels=256,\n",
        "                           kernel_size=3,\n",
        "                           padding=1,\n",
        "                           stride=2)\n",
        "    self.conv7 = nn.Conv2d(in_channels=256,\n",
        "                           out_channels=256,\n",
        "                           kernel_size=3,\n",
        "                           padding=1,\n",
        "                           stride=1)\n",
        "\n",
        "    # FC layer\n",
        "    self.fc = nn.Linear(256 * 4 * 4, 1)\n",
        "\n",
        "    # Batch normalization\n",
        "    self.norm64 = nn.BatchNorm2d(num_features=64)\n",
        "    self.norm128 = nn.BatchNorm2d(num_features=128)\n",
        "    self.norm256 = nn.BatchNorm2d(num_features=256)\n",
        "\n",
        "\n",
        "  def downsample2(self, x, out_channels):\n",
        "    N, C, H, W = x.shape # Assume H == W\n",
        "\n",
        "    # Downsample by 2\n",
        "    downsample = nn.AvgPool2d(2, 2)\n",
        "    x = downsample(x)\n",
        "\n",
        "    # 0 padding new channels\n",
        "    new_channels = out_channels - C\n",
        "    x = F.pad(x, pad=(0, 0, 0, 0, 0, new_channels))\n",
        "\n",
        "    return x\n",
        "\n",
        "\n",
        "  def forward(self, x):\n",
        "    # Layer 1\n",
        "    x = self.conv1(x)                               # Output: 64x128x128\n",
        "    x = self.norm64(self.maxpool2(x))               # Output: 64x64x64\n",
        "\n",
        "    # Layer 2\n",
        "    skip = x.detach().clone()\n",
        "    x = self.norm64(self.conv2(x))                  # Output: 64x64x64\n",
        "\n",
        "    # Layer 3\n",
        "    x = self.norm64(skip + self.conv3(x))           # Output: 64x64x64\n",
        "\n",
        "    # Layer 4\n",
        "    skip = x.detach().clone()\n",
        "    x = self.norm128(self.conv4(x))                 # Output: 128x32x32\n",
        "\n",
        "    # Layer 5\n",
        "    x = self.norm128(self.downsample2(skip, 128) + self.conv5(x))\n",
        "                                                    # Output: 128x32x32\n",
        "\n",
        "    # Layer 6\n",
        "    skip = x.detach().clone()\n",
        "    x = self.norm256(self.conv6(x))                 # Output: 256x16x16\n",
        "\n",
        "    # Layer 7\n",
        "    x = self.downsample2(skip, 256) + self.conv7(x) # Output: 256x16x16\n",
        "    x = self.norm256(self.avgpool4(x))              # Output: 256x4x4\n",
        "\n",
        "    # Layer 8\n",
        "    x = x.view(-1, 256 * 4 * 4)\n",
        "    x = self.fc(x)\n",
        "    x = x.squeeze(1)\n",
        "\n",
        "    return x\n",
        "\n",
        "\n",
        "baseline_model = Baseline()\n",
        "num_params = 0\n",
        "for param in baseline_model.parameters():\n",
        "    num_params += param.numel()\n",
        "print(\"There are\", num_params, \"parameters in the baseline model\")\n"
      ],
      "metadata": {
        "colab": {
          "base_uri": "https://localhost:8080/"
        },
        "id": "0Vtqb-BV-opL",
        "outputId": "950765e0-c612-4b58-9cc5-d6103edf6c6d"
      },
      "execution_count": 74,
      "outputs": [
        {
          "output_type": "stream",
          "name": "stdout",
          "text": [
            "There are 1195009 parameters in the baseline model\n"
          ]
        }
      ]
    },
    {
      "cell_type": "markdown",
      "source": [
        "## Training"
      ],
      "metadata": {
        "id": "Iv_k_sZxIVY7"
      }
    },
    {
      "cell_type": "markdown",
      "source": [
        "### Non-Baseline-Specific Functions"
      ],
      "metadata": {
        "id": "qdvuNd0iKlt7"
      }
    },
    {
      "cell_type": "code",
      "source": [
        "import matplotlib.pyplot as plt\n",
        "import torch\n",
        "\n",
        "\n",
        "# Plot training curve from model path\n",
        "def plot_training_curve(path):\n",
        "  train_err = np.loadtxt(\"{}_train_err.csv\".format(path))\n",
        "  val_err = np.loadtxt(\"{}_val_err.csv\".format(path))\n",
        "  train_loss = np.loadtxt(\"{}_train_loss.csv\".format(path))\n",
        "  val_loss = np.loadtxt(\"{}_val_loss.csv\".format(path))\n",
        "  plt.title(\"Train vs Validation Error\")\n",
        "  n = len(train_err) # number of epochs\n",
        "  plt.plot(range(1, n + 1), train_err, label=\"Train\")\n",
        "  plt.plot(range(1, n + 1), val_err, label=\"Validation\")\n",
        "  plt.xlabel(\"Epoch\")\n",
        "  plt.ylabel(\"Error\")\n",
        "  plt.legend(loc='best')\n",
        "  plt.show()\n",
        "  plt.title(\"Train vs Validation Loss\")\n",
        "  plt.plot(range(1, n + 1), train_loss, label=\"Train\")\n",
        "  plt.plot(range(1, n + 1), val_loss, label=\"Validation\")\n",
        "  plt.xlabel(\"Epoch\")\n",
        "  plt.ylabel(\"Loss\")\n",
        "  plt.legend(loc='best')\n",
        "  plt.show()\n"
      ],
      "metadata": {
        "id": "a1hfbJKSIX2L"
      },
      "execution_count": 22,
      "outputs": []
    },
    {
      "cell_type": "markdown",
      "source": [
        "### Baseline-Specific Functions"
      ],
      "metadata": {
        "id": "N5tKAL7EKs9R"
      }
    },
    {
      "cell_type": "code",
      "source": [
        "import numpy as np\n",
        "import time\n",
        "import torch.optim as optim\n",
        "from torch.utils.data import DataLoader\n",
        "\n",
        "\n",
        "# Path that I (Nathan) use to save files; replace with your own folder if you\n",
        "# want to run\n",
        "NATHAN_PATH = '/content/drive/MyDrive/APS360_misc/'\n",
        "\n",
        "\n",
        "# Get name of baseline model checkpoint\n",
        "def get_baseline_name(epoch):\n",
        "  path = NATHAN_PATH + \"model_baseline_epoch{0}\".format(epoch)\n",
        "  return path\n",
        "\n",
        "\n",
        "# Evaluate data from loader on net\n",
        "def evaluate_baseline(net, loader):\n",
        "  if loader == None:\n",
        "    return None, None\n",
        "\n",
        "  # Enable GPU usage\n",
        "  if torch.cuda.is_available():\n",
        "    net = net.cuda()\n",
        "\n",
        "  total_loss = 0.0\n",
        "  total_err = 0.0\n",
        "  num_samples = 0\n",
        "\n",
        "  criterion = nn.BCEWithLogitsLoss()\n",
        "\n",
        "  for i, data in enumerate(loader):\n",
        "    imgs, labels = data\n",
        "    num_samples += len(labels)\n",
        "\n",
        "    # Enable GPU usage\n",
        "    if torch.cuda.is_available():\n",
        "      imgs = imgs.cuda()\n",
        "      labels = labels.cuda()\n",
        "\n",
        "    # Forward pass\n",
        "    outputs = net(imgs)\n",
        "    loss = criterion(outputs, labels.float())\n",
        "\n",
        "    # Update loss, error\n",
        "    corr = (outputs > 0.0).squeeze().long() != labels\n",
        "    total_err += int(corr.sum())\n",
        "    total_loss += loss.item()\n",
        "\n",
        "  err = float(total_err) / num_samples\n",
        "  loss = float(total_loss) / len(loader)\n",
        "\n",
        "  return err, loss\n",
        "\n",
        "\n",
        "# Train baseline model on given datasets\n",
        "def train_baseline(net,\n",
        "                   custom_train=None,\n",
        "                   num_epochs=17,\n",
        "                   starting_epoch=1,\n",
        "                   use_lr_schedule=True):\n",
        "  torch.manual_seed(42)\n",
        "\n",
        "  # Note: we want to train over 3000 iterations. For now, I assume a batch size\n",
        "  # of 11148, meaning there will be 175 iterations/per epoch, so I am using 17\n",
        "  # epochs.\n",
        "\n",
        "  # Enable GPU usage\n",
        "  if torch.cuda.is_available():\n",
        "    net = net.cuda()\n",
        "\n",
        "  # Hyperparameters\n",
        "  batch_size=64,\n",
        "  initial_learning_rate=0.01,\n",
        "\n",
        "  # Criterion\n",
        "  criterion = nn.BCEWithLogitsLoss()\n",
        "\n",
        "  # Optimizer\n",
        "  betas = (0.9, 0.99)\n",
        "  milestones = [6, 12]\n",
        "  lr_factor = 0.1\n",
        "  optimizer = optim.Adam(net.parameters(),\n",
        "                         lr=initial_learning_rate,\n",
        "                         betas=betas)\n",
        "  if use_lr_schedule:\n",
        "    learning_rate_schedule = optim.lr_scheduler.MultiStepLR(optimizer,\n",
        "                                                          milestones=milestones,\n",
        "                                                          gamma=lr_factor)\n",
        "\n",
        "  # Arrays to record loss and error\n",
        "  train_err = np.zeros(num_epochs)\n",
        "  train_loss = np.zeros(num_epochs)\n",
        "  val_err = np.zeros(num_epochs)\n",
        "  val_loss = np.zeros(num_epochs)\n",
        "\n",
        "  # Load data\n",
        "  train_loader, val_loader, _ = get_data_loaders_step2(batch_size=batch_size)\n",
        "  if custom_train:\n",
        "    train_loader = DataLoader(custom_train, batch_size, shuffle=True)\n",
        "    val_loader = None\n",
        "\n",
        "  # Train\n",
        "  start_time = time.time()\n",
        "  for epoch in range(num_epochs):\n",
        "    if epoch + 1 < starting_epoch:\n",
        "      continue\n",
        "\n",
        "    total_train_loss = 0.0\n",
        "    total_train_err = 0.0\n",
        "    num_samples = 1\n",
        "\n",
        "    # Iterate through mini batches\n",
        "    for i, data in enumerate(train_loader):\n",
        "      imgs, labels = data\n",
        "      num_samples += len(labels)\n",
        "\n",
        "      # Enable GPU usage\n",
        "      if torch.cuda.is_available():\n",
        "        imgs = imgs.cuda()\n",
        "        labels = labels.cuda()\n",
        "\n",
        "      # Forward pass, backward pass, update\n",
        "      optimizer.zero_grad()\n",
        "      outputs = net(imgs)\n",
        "      loss = criterion(outputs, labels.float())\n",
        "      loss.backward()\n",
        "      optimizer.step()\n",
        "\n",
        "      # Update training loss, error\n",
        "      corr = (outputs > 0.0).squeeze().long() != labels\n",
        "      total_train_err += int(corr.sum())\n",
        "      total_train_loss += loss.item()\n",
        "\n",
        "    # Calculate total loss, error\n",
        "    train_err[epoch] = total_train_err / num_samples\n",
        "    train_loss[epoch] = total_train_loss / len(train_loader)\n",
        "    val_err[epoch], val_loss[epoch] = evaluate_baseline(net, val_loader)\n",
        "\n",
        "    # Print loss, error\n",
        "    print((\"Epoch {}: Train err: {}, Train loss: {} | \" +\n",
        "           \"Validation err: {}, Validation loss: {}\").format(\n",
        "              epoch + 1,\n",
        "              train_err[epoch],\n",
        "              train_loss[epoch],\n",
        "              val_err[epoch],\n",
        "              val_loss[epoch]))\n",
        "\n",
        "    # Save the current model (checkpoint) to a file\n",
        "    model_path = get_baseline_name(epoch + 1)\n",
        "    torch.save(net.state_dict(), model_path)\n",
        "\n",
        "    # Update LR scheduler\n",
        "    if use_lr_schedule:\n",
        "      learning_rate_schedule.step()\n",
        "\n",
        "  # Finish up\n",
        "  print('Finished Training')\n",
        "  end_time = time.time()\n",
        "  elapsed_time = end_time - start_time\n",
        "  print(\"Total time elapsed: {:.2f} seconds\".format(elapsed_time))\n",
        "\n",
        "  # Write the train/test loss/err into CSV file for plotting later\n",
        "  np.savetxt(\"{}_train_err.csv\".format(model_path), train_err)\n",
        "  np.savetxt(\"{}_train_loss.csv\".format(model_path), train_loss)\n",
        "  np.savetxt(\"{}_val_err.csv\".format(model_path), val_err)\n",
        "  np.savetxt(\"{}_val_loss.csv\".format(model_path), val_loss)\n"
      ],
      "metadata": {
        "id": "milhjywFKxiX"
      },
      "execution_count": 123,
      "outputs": []
    },
    {
      "cell_type": "markdown",
      "source": [
        "### Overfit"
      ],
      "metadata": {
        "id": "hLIjLEy_3LVH"
      }
    },
    {
      "cell_type": "code",
      "source": [
        "from torch.utils.data import random_split\n",
        "\n",
        "size = 64\n",
        "overfit_set, _ = random_split(dataset=train_dataset,\n",
        "                              lengths=[size, len(train_dataset) - size],\n",
        "                              generator=torch.Generator().manual_seed(42))\n",
        "\n",
        "overfit_model = Baseline()\n",
        "train_baseline(overfit_model,\n",
        "               custom_train=overfit_set,\n",
        "               num_epochs=200,\n",
        "               use_lr_schedule=False)"
      ],
      "metadata": {
        "id": "XW7qvq6x3RU0",
        "outputId": "c0ca2b5a-c23d-40a8-9b4c-296a43875300",
        "colab": {
          "base_uri": "https://localhost:8080/"
        }
      },
      "execution_count": 98,
      "outputs": [
        {
          "output_type": "stream",
          "name": "stdout",
          "text": [
            "Epoch 1: Train err: 0.53125, Train loss: 0.7537523508071899 | Validation err: nan, Validation loss: nan\n",
            "Epoch 2: Train err: 0.46875, Train loss: 2.4154200553894043 | Validation err: nan, Validation loss: nan\n",
            "Epoch 3: Train err: 0.375, Train loss: 1.7047573328018188 | Validation err: nan, Validation loss: nan\n",
            "Epoch 4: Train err: 0.515625, Train loss: 8.940056800842285 | Validation err: nan, Validation loss: nan\n",
            "Epoch 5: Train err: 0.484375, Train loss: 4.764327526092529 | Validation err: nan, Validation loss: nan\n",
            "Epoch 6: Train err: 0.390625, Train loss: 1.771729826927185 | Validation err: nan, Validation loss: nan\n",
            "Epoch 7: Train err: 0.578125, Train loss: 2.724569797515869 | Validation err: nan, Validation loss: nan\n",
            "Epoch 8: Train err: 0.453125, Train loss: 2.1888275146484375 | Validation err: nan, Validation loss: nan\n",
            "Epoch 9: Train err: 0.34375, Train loss: 1.6753901243209839 | Validation err: nan, Validation loss: nan\n",
            "Epoch 10: Train err: 0.28125, Train loss: 1.057455062866211 | Validation err: nan, Validation loss: nan\n",
            "Epoch 11: Train err: 0.21875, Train loss: 1.506373405456543 | Validation err: nan, Validation loss: nan\n",
            "Epoch 12: Train err: 0.234375, Train loss: 1.4729394912719727 | Validation err: nan, Validation loss: nan\n",
            "Epoch 13: Train err: 0.1875, Train loss: 0.9773014783859253 | Validation err: nan, Validation loss: nan\n",
            "Epoch 14: Train err: 0.21875, Train loss: 0.8178835511207581 | Validation err: nan, Validation loss: nan\n",
            "Epoch 15: Train err: 0.296875, Train loss: 1.0597790479660034 | Validation err: nan, Validation loss: nan\n",
            "Epoch 16: Train err: 0.28125, Train loss: 0.734794557094574 | Validation err: nan, Validation loss: nan\n",
            "Epoch 17: Train err: 0.296875, Train loss: 0.7085854411125183 | Validation err: nan, Validation loss: nan\n",
            "Epoch 18: Train err: 0.265625, Train loss: 0.7069408893585205 | Validation err: nan, Validation loss: nan\n",
            "Epoch 19: Train err: 0.21875, Train loss: 0.45222416520118713 | Validation err: nan, Validation loss: nan\n",
            "Epoch 20: Train err: 0.296875, Train loss: 0.72809898853302 | Validation err: nan, Validation loss: nan\n",
            "Epoch 21: Train err: 0.234375, Train loss: 0.4904327988624573 | Validation err: nan, Validation loss: nan\n",
            "Epoch 22: Train err: 0.234375, Train loss: 0.43443363904953003 | Validation err: nan, Validation loss: nan\n",
            "Epoch 23: Train err: 0.265625, Train loss: 0.5813504457473755 | Validation err: nan, Validation loss: nan\n",
            "Epoch 24: Train err: 0.171875, Train loss: 0.34988048672676086 | Validation err: nan, Validation loss: nan\n",
            "Epoch 25: Train err: 0.1875, Train loss: 0.39815059304237366 | Validation err: nan, Validation loss: nan\n",
            "Epoch 26: Train err: 0.171875, Train loss: 0.33782869577407837 | Validation err: nan, Validation loss: nan\n",
            "Epoch 27: Train err: 0.125, Train loss: 0.27726322412490845 | Validation err: nan, Validation loss: nan\n",
            "Epoch 28: Train err: 0.15625, Train loss: 0.3310481905937195 | Validation err: nan, Validation loss: nan\n",
            "Epoch 29: Train err: 0.09375, Train loss: 0.3107522130012512 | Validation err: nan, Validation loss: nan\n",
            "Epoch 30: Train err: 0.0625, Train loss: 0.221012681722641 | Validation err: nan, Validation loss: nan\n",
            "Epoch 31: Train err: 0.109375, Train loss: 0.2113044261932373 | Validation err: nan, Validation loss: nan\n",
            "Epoch 32: Train err: 0.078125, Train loss: 0.21588316559791565 | Validation err: nan, Validation loss: nan\n",
            "Epoch 33: Train err: 0.0625, Train loss: 0.17486882209777832 | Validation err: nan, Validation loss: nan\n",
            "Epoch 34: Train err: 0.09375, Train loss: 0.19792714715003967 | Validation err: nan, Validation loss: nan\n",
            "Epoch 35: Train err: 0.0625, Train loss: 0.18817013502120972 | Validation err: nan, Validation loss: nan\n",
            "Epoch 36: Train err: 0.046875, Train loss: 0.14361980557441711 | Validation err: nan, Validation loss: nan\n",
            "Epoch 37: Train err: 0.015625, Train loss: 0.13809749484062195 | Validation err: nan, Validation loss: nan\n",
            "Epoch 38: Train err: 0.03125, Train loss: 0.15055811405181885 | Validation err: nan, Validation loss: nan\n",
            "Epoch 39: Train err: 0.03125, Train loss: 0.14589601755142212 | Validation err: nan, Validation loss: nan\n",
            "Epoch 40: Train err: 0.03125, Train loss: 0.12690657377243042 | Validation err: nan, Validation loss: nan\n",
            "Epoch 41: Train err: 0.03125, Train loss: 0.11543858051300049 | Validation err: nan, Validation loss: nan\n",
            "Epoch 42: Train err: 0.03125, Train loss: 0.11090424656867981 | Validation err: nan, Validation loss: nan\n",
            "Epoch 43: Train err: 0.03125, Train loss: 0.10744334757328033 | Validation err: nan, Validation loss: nan\n",
            "Epoch 44: Train err: 0.0, Train loss: 0.09868323057889938 | Validation err: nan, Validation loss: nan\n",
            "Epoch 45: Train err: 0.0, Train loss: 0.08901028335094452 | Validation err: nan, Validation loss: nan\n",
            "Epoch 46: Train err: 0.0, Train loss: 0.08544282615184784 | Validation err: nan, Validation loss: nan\n",
            "Epoch 47: Train err: 0.0, Train loss: 0.08330264687538147 | Validation err: nan, Validation loss: nan\n",
            "Epoch 48: Train err: 0.0, Train loss: 0.07770130038261414 | Validation err: nan, Validation loss: nan\n",
            "Epoch 49: Train err: 0.0, Train loss: 0.0733380913734436 | Validation err: nan, Validation loss: nan\n",
            "Epoch 50: Train err: 0.015625, Train loss: 0.07155755907297134 | Validation err: nan, Validation loss: nan\n",
            "Epoch 51: Train err: 0.015625, Train loss: 0.06754523515701294 | Validation err: nan, Validation loss: nan\n",
            "Epoch 52: Train err: 0.0, Train loss: 0.06228489428758621 | Validation err: nan, Validation loss: nan\n",
            "Epoch 53: Train err: 0.0, Train loss: 0.05997062474489212 | Validation err: nan, Validation loss: nan\n",
            "Epoch 54: Train err: 0.0, Train loss: 0.057481154799461365 | Validation err: nan, Validation loss: nan\n",
            "Epoch 55: Train err: 0.0, Train loss: 0.05270268768072128 | Validation err: nan, Validation loss: nan\n",
            "Epoch 56: Train err: 0.0, Train loss: 0.04950491338968277 | Validation err: nan, Validation loss: nan\n",
            "Epoch 57: Train err: 0.0, Train loss: 0.04793325439095497 | Validation err: nan, Validation loss: nan\n",
            "Epoch 58: Train err: 0.0, Train loss: 0.045439425855875015 | Validation err: nan, Validation loss: nan\n",
            "Epoch 59: Train err: 0.0, Train loss: 0.042419400066137314 | Validation err: nan, Validation loss: nan\n",
            "Epoch 60: Train err: 0.0, Train loss: 0.0401843786239624 | Validation err: nan, Validation loss: nan\n",
            "Epoch 61: Train err: 0.0, Train loss: 0.038557909429073334 | Validation err: nan, Validation loss: nan\n",
            "Epoch 62: Train err: 0.0, Train loss: 0.03667399287223816 | Validation err: nan, Validation loss: nan\n",
            "Epoch 63: Train err: 0.0, Train loss: 0.034278079867362976 | Validation err: nan, Validation loss: nan\n",
            "Epoch 64: Train err: 0.0, Train loss: 0.032188862562179565 | Validation err: nan, Validation loss: nan\n",
            "Epoch 65: Train err: 0.0, Train loss: 0.030843030661344528 | Validation err: nan, Validation loss: nan\n",
            "Epoch 66: Train err: 0.0, Train loss: 0.029620375484228134 | Validation err: nan, Validation loss: nan\n",
            "Epoch 67: Train err: 0.0, Train loss: 0.028087995946407318 | Validation err: nan, Validation loss: nan\n",
            "Epoch 68: Train err: 0.0, Train loss: 0.026478491723537445 | Validation err: nan, Validation loss: nan\n",
            "Epoch 69: Train err: 0.0, Train loss: 0.025081951171159744 | Validation err: nan, Validation loss: nan\n",
            "Epoch 70: Train err: 0.0, Train loss: 0.023842744529247284 | Validation err: nan, Validation loss: nan\n",
            "Epoch 71: Train err: 0.0, Train loss: 0.02254401706159115 | Validation err: nan, Validation loss: nan\n",
            "Epoch 72: Train err: 0.0, Train loss: 0.021048851311206818 | Validation err: nan, Validation loss: nan\n",
            "Epoch 73: Train err: 0.0, Train loss: 0.019435804337263107 | Validation err: nan, Validation loss: nan\n",
            "Epoch 74: Train err: 0.0, Train loss: 0.017973043024539948 | Validation err: nan, Validation loss: nan\n",
            "Epoch 75: Train err: 0.0, Train loss: 0.016734901815652847 | Validation err: nan, Validation loss: nan\n",
            "Epoch 76: Train err: 0.0, Train loss: 0.015696339309215546 | Validation err: nan, Validation loss: nan\n",
            "Epoch 77: Train err: 0.0, Train loss: 0.015018479898571968 | Validation err: nan, Validation loss: nan\n",
            "Epoch 78: Train err: 0.0, Train loss: 0.0140762310475111 | Validation err: nan, Validation loss: nan\n",
            "Epoch 79: Train err: 0.0, Train loss: 0.01275153923779726 | Validation err: nan, Validation loss: nan\n",
            "Epoch 80: Train err: 0.0, Train loss: 0.011985739693045616 | Validation err: nan, Validation loss: nan\n",
            "Epoch 81: Train err: 0.0, Train loss: 0.011443652212619781 | Validation err: nan, Validation loss: nan\n",
            "Epoch 82: Train err: 0.0, Train loss: 0.010762345977127552 | Validation err: nan, Validation loss: nan\n",
            "Epoch 83: Train err: 0.0, Train loss: 0.010024666786193848 | Validation err: nan, Validation loss: nan\n",
            "Epoch 84: Train err: 0.0, Train loss: 0.009403837844729424 | Validation err: nan, Validation loss: nan\n",
            "Epoch 85: Train err: 0.0, Train loss: 0.008850610814988613 | Validation err: nan, Validation loss: nan\n",
            "Epoch 86: Train err: 0.0, Train loss: 0.00827387347817421 | Validation err: nan, Validation loss: nan\n",
            "Epoch 87: Train err: 0.0, Train loss: 0.0077408854849636555 | Validation err: nan, Validation loss: nan\n",
            "Epoch 88: Train err: 0.0, Train loss: 0.007341226562857628 | Validation err: nan, Validation loss: nan\n",
            "Epoch 89: Train err: 0.0, Train loss: 0.007024818565696478 | Validation err: nan, Validation loss: nan\n",
            "Epoch 90: Train err: 0.0, Train loss: 0.006659475155174732 | Validation err: nan, Validation loss: nan\n",
            "Epoch 91: Train err: 0.0, Train loss: 0.006263527553528547 | Validation err: nan, Validation loss: nan\n",
            "Epoch 92: Train err: 0.0, Train loss: 0.005918347742408514 | Validation err: nan, Validation loss: nan\n",
            "Epoch 93: Train err: 0.0, Train loss: 0.005628298968076706 | Validation err: nan, Validation loss: nan\n",
            "Epoch 94: Train err: 0.0, Train loss: 0.00536477193236351 | Validation err: nan, Validation loss: nan\n",
            "Epoch 95: Train err: 0.0, Train loss: 0.005101198796182871 | Validation err: nan, Validation loss: nan\n",
            "Epoch 96: Train err: 0.0, Train loss: 0.004851243458688259 | Validation err: nan, Validation loss: nan\n",
            "Epoch 97: Train err: 0.0, Train loss: 0.004649646580219269 | Validation err: nan, Validation loss: nan\n",
            "Epoch 98: Train err: 0.0, Train loss: 0.004493815824389458 | Validation err: nan, Validation loss: nan\n",
            "Epoch 99: Train err: 0.0, Train loss: 0.004319049883633852 | Validation err: nan, Validation loss: nan\n",
            "Epoch 100: Train err: 0.0, Train loss: 0.004138828720897436 | Validation err: nan, Validation loss: nan\n",
            "Epoch 101: Train err: 0.0, Train loss: 0.004014182835817337 | Validation err: nan, Validation loss: nan\n",
            "Epoch 102: Train err: 0.0, Train loss: 0.003887665458023548 | Validation err: nan, Validation loss: nan\n",
            "Epoch 103: Train err: 0.0, Train loss: 0.003733068471774459 | Validation err: nan, Validation loss: nan\n",
            "Epoch 104: Train err: 0.0, Train loss: 0.003597839269787073 | Validation err: nan, Validation loss: nan\n",
            "Epoch 105: Train err: 0.0, Train loss: 0.0034780483692884445 | Validation err: nan, Validation loss: nan\n",
            "Epoch 106: Train err: 0.0, Train loss: 0.0033636181615293026 | Validation err: nan, Validation loss: nan\n",
            "Epoch 107: Train err: 0.0, Train loss: 0.003257736563682556 | Validation err: nan, Validation loss: nan\n",
            "Epoch 108: Train err: 0.0, Train loss: 0.0031485348008573055 | Validation err: nan, Validation loss: nan\n",
            "Epoch 109: Train err: 0.0, Train loss: 0.0030629828106611967 | Validation err: nan, Validation loss: nan\n",
            "Epoch 110: Train err: 0.0, Train loss: 0.002983985934406519 | Validation err: nan, Validation loss: nan\n",
            "Epoch 111: Train err: 0.0, Train loss: 0.002884348388761282 | Validation err: nan, Validation loss: nan\n",
            "Epoch 112: Train err: 0.0, Train loss: 0.0028025072533637285 | Validation err: nan, Validation loss: nan\n",
            "Epoch 113: Train err: 0.0, Train loss: 0.0027276533655822277 | Validation err: nan, Validation loss: nan\n",
            "Epoch 114: Train err: 0.0, Train loss: 0.0026445447001606226 | Validation err: nan, Validation loss: nan\n",
            "Epoch 115: Train err: 0.0, Train loss: 0.0025692270137369633 | Validation err: nan, Validation loss: nan\n",
            "Epoch 116: Train err: 0.0, Train loss: 0.002499241381883621 | Validation err: nan, Validation loss: nan\n",
            "Epoch 117: Train err: 0.0, Train loss: 0.00243310141377151 | Validation err: nan, Validation loss: nan\n",
            "Epoch 118: Train err: 0.0, Train loss: 0.0023662555031478405 | Validation err: nan, Validation loss: nan\n",
            "Epoch 119: Train err: 0.0, Train loss: 0.0023019148502498865 | Validation err: nan, Validation loss: nan\n",
            "Epoch 120: Train err: 0.0, Train loss: 0.002247172873467207 | Validation err: nan, Validation loss: nan\n",
            "Epoch 121: Train err: 0.0, Train loss: 0.0021908236667513847 | Validation err: nan, Validation loss: nan\n",
            "Epoch 122: Train err: 0.0, Train loss: 0.0021346628200262785 | Validation err: nan, Validation loss: nan\n",
            "Epoch 123: Train err: 0.0, Train loss: 0.0020859220530837774 | Validation err: nan, Validation loss: nan\n",
            "Epoch 124: Train err: 0.0, Train loss: 0.0020369086414575577 | Validation err: nan, Validation loss: nan\n",
            "Epoch 125: Train err: 0.0, Train loss: 0.00198726961389184 | Validation err: nan, Validation loss: nan\n",
            "Epoch 126: Train err: 0.0, Train loss: 0.0019406476058065891 | Validation err: nan, Validation loss: nan\n",
            "Epoch 127: Train err: 0.0, Train loss: 0.001896141329780221 | Validation err: nan, Validation loss: nan\n",
            "Epoch 128: Train err: 0.0, Train loss: 0.0018534096889197826 | Validation err: nan, Validation loss: nan\n",
            "Epoch 129: Train err: 0.0, Train loss: 0.0018104235641658306 | Validation err: nan, Validation loss: nan\n",
            "Epoch 130: Train err: 0.0, Train loss: 0.0017717608716338873 | Validation err: nan, Validation loss: nan\n",
            "Epoch 131: Train err: 0.0, Train loss: 0.0017350187990814447 | Validation err: nan, Validation loss: nan\n",
            "Epoch 132: Train err: 0.0, Train loss: 0.0016968511044979095 | Validation err: nan, Validation loss: nan\n",
            "Epoch 133: Train err: 0.0, Train loss: 0.0016609826125204563 | Validation err: nan, Validation loss: nan\n",
            "Epoch 134: Train err: 0.0, Train loss: 0.0016267949249595404 | Validation err: nan, Validation loss: nan\n",
            "Epoch 135: Train err: 0.0, Train loss: 0.0015918530989438295 | Validation err: nan, Validation loss: nan\n",
            "Epoch 136: Train err: 0.0, Train loss: 0.0015585878863930702 | Validation err: nan, Validation loss: nan\n",
            "Epoch 137: Train err: 0.0, Train loss: 0.0015268384013324976 | Validation err: nan, Validation loss: nan\n",
            "Epoch 138: Train err: 0.0, Train loss: 0.0014958205865696073 | Validation err: nan, Validation loss: nan\n",
            "Epoch 139: Train err: 0.0, Train loss: 0.001465806970372796 | Validation err: nan, Validation loss: nan\n",
            "Epoch 140: Train err: 0.0, Train loss: 0.001436568214558065 | Validation err: nan, Validation loss: nan\n",
            "Epoch 141: Train err: 0.0, Train loss: 0.0014084037393331528 | Validation err: nan, Validation loss: nan\n",
            "Epoch 142: Train err: 0.0, Train loss: 0.0013810013188049197 | Validation err: nan, Validation loss: nan\n",
            "Epoch 143: Train err: 0.0, Train loss: 0.001353950472548604 | Validation err: nan, Validation loss: nan\n",
            "Epoch 144: Train err: 0.0, Train loss: 0.00132838380523026 | Validation err: nan, Validation loss: nan\n",
            "Epoch 145: Train err: 0.0, Train loss: 0.0013031691778451204 | Validation err: nan, Validation loss: nan\n",
            "Epoch 146: Train err: 0.0, Train loss: 0.0012787641026079655 | Validation err: nan, Validation loss: nan\n",
            "Epoch 147: Train err: 0.0, Train loss: 0.0012551601976156235 | Validation err: nan, Validation loss: nan\n",
            "Epoch 148: Train err: 0.0, Train loss: 0.001231909031048417 | Validation err: nan, Validation loss: nan\n",
            "Epoch 149: Train err: 0.0, Train loss: 0.0012094012927263975 | Validation err: nan, Validation loss: nan\n",
            "Epoch 150: Train err: 0.0, Train loss: 0.0011878777295351028 | Validation err: nan, Validation loss: nan\n",
            "Epoch 151: Train err: 0.0, Train loss: 0.0011668577790260315 | Validation err: nan, Validation loss: nan\n",
            "Epoch 152: Train err: 0.0, Train loss: 0.0011459242086857557 | Validation err: nan, Validation loss: nan\n",
            "Epoch 153: Train err: 0.0, Train loss: 0.0011255443096160889 | Validation err: nan, Validation loss: nan\n",
            "Epoch 154: Train err: 0.0, Train loss: 0.0011061294935643673 | Validation err: nan, Validation loss: nan\n",
            "Epoch 155: Train err: 0.0, Train loss: 0.0010867966338992119 | Validation err: nan, Validation loss: nan\n",
            "Epoch 156: Train err: 0.0, Train loss: 0.0010682862484827638 | Validation err: nan, Validation loss: nan\n",
            "Epoch 157: Train err: 0.0, Train loss: 0.0010504466481506824 | Validation err: nan, Validation loss: nan\n",
            "Epoch 158: Train err: 0.0, Train loss: 0.001033181557431817 | Validation err: nan, Validation loss: nan\n",
            "Epoch 159: Train err: 0.0, Train loss: 0.0010162710677832365 | Validation err: nan, Validation loss: nan\n",
            "Epoch 160: Train err: 0.0, Train loss: 0.0009991570841521025 | Validation err: nan, Validation loss: nan\n",
            "Epoch 161: Train err: 0.0, Train loss: 0.0009829751215875149 | Validation err: nan, Validation loss: nan\n",
            "Epoch 162: Train err: 0.0, Train loss: 0.0009673913009464741 | Validation err: nan, Validation loss: nan\n",
            "Epoch 163: Train err: 0.0, Train loss: 0.0009518921142444015 | Validation err: nan, Validation loss: nan\n",
            "Epoch 164: Train err: 0.0, Train loss: 0.0009371035266667604 | Validation err: nan, Validation loss: nan\n",
            "Epoch 165: Train err: 0.0, Train loss: 0.0009224425884895027 | Validation err: nan, Validation loss: nan\n",
            "Epoch 166: Train err: 0.0, Train loss: 0.0009081941097974777 | Validation err: nan, Validation loss: nan\n",
            "Epoch 167: Train err: 0.0, Train loss: 0.0008945432491600513 | Validation err: nan, Validation loss: nan\n",
            "Epoch 168: Train err: 0.0, Train loss: 0.0008810812141746283 | Validation err: nan, Validation loss: nan\n",
            "Epoch 169: Train err: 0.0, Train loss: 0.0008681579492986202 | Validation err: nan, Validation loss: nan\n",
            "Epoch 170: Train err: 0.0, Train loss: 0.000855420483276248 | Validation err: nan, Validation loss: nan\n",
            "Epoch 171: Train err: 0.0, Train loss: 0.0008429898880422115 | Validation err: nan, Validation loss: nan\n",
            "Epoch 172: Train err: 0.0, Train loss: 0.0008307065581902862 | Validation err: nan, Validation loss: nan\n",
            "Epoch 173: Train err: 0.0, Train loss: 0.0008186446502804756 | Validation err: nan, Validation loss: nan\n",
            "Epoch 174: Train err: 0.0, Train loss: 0.0008071076590567827 | Validation err: nan, Validation loss: nan\n",
            "Epoch 175: Train err: 0.0, Train loss: 0.0007957208435982466 | Validation err: nan, Validation loss: nan\n",
            "Epoch 176: Train err: 0.0, Train loss: 0.0007845904910936952 | Validation err: nan, Validation loss: nan\n",
            "Epoch 177: Train err: 0.0, Train loss: 0.0007735147373750806 | Validation err: nan, Validation loss: nan\n",
            "Epoch 178: Train err: 0.0, Train loss: 0.0007631393964402378 | Validation err: nan, Validation loss: nan\n",
            "Epoch 179: Train err: 0.0, Train loss: 0.0007525976398028433 | Validation err: nan, Validation loss: nan\n",
            "Epoch 180: Train err: 0.0, Train loss: 0.0007420738693326712 | Validation err: nan, Validation loss: nan\n",
            "Epoch 181: Train err: 0.0, Train loss: 0.000732195854652673 | Validation err: nan, Validation loss: nan\n",
            "Epoch 182: Train err: 0.0, Train loss: 0.0007224222645163536 | Validation err: nan, Validation loss: nan\n",
            "Epoch 183: Train err: 0.0, Train loss: 0.0007127146236598492 | Validation err: nan, Validation loss: nan\n",
            "Epoch 184: Train err: 0.0, Train loss: 0.0007033784640952945 | Validation err: nan, Validation loss: nan\n",
            "Epoch 185: Train err: 0.0, Train loss: 0.0006939573213458061 | Validation err: nan, Validation loss: nan\n",
            "Epoch 186: Train err: 0.0, Train loss: 0.0006849423516541719 | Validation err: nan, Validation loss: nan\n",
            "Epoch 187: Train err: 0.0, Train loss: 0.0006760209798812866 | Validation err: nan, Validation loss: nan\n",
            "Epoch 188: Train err: 0.0, Train loss: 0.0006671153823845088 | Validation err: nan, Validation loss: nan\n",
            "Epoch 189: Train err: 0.0, Train loss: 0.0006584474467672408 | Validation err: nan, Validation loss: nan\n",
            "Epoch 190: Train err: 0.0, Train loss: 0.0006498734001070261 | Validation err: nan, Validation loss: nan\n",
            "Epoch 191: Train err: 0.0, Train loss: 0.0006417463882826269 | Validation err: nan, Validation loss: nan\n",
            "Epoch 192: Train err: 0.0, Train loss: 0.0006335095968097448 | Validation err: nan, Validation loss: nan\n",
            "Epoch 193: Train err: 0.0, Train loss: 0.0006254566833376884 | Validation err: nan, Validation loss: nan\n",
            "Epoch 194: Train err: 0.0, Train loss: 0.0006174360169097781 | Validation err: nan, Validation loss: nan\n",
            "Epoch 195: Train err: 0.0, Train loss: 0.0006096127908676863 | Validation err: nan, Validation loss: nan\n",
            "Epoch 196: Train err: 0.0, Train loss: 0.0006019625579938293 | Validation err: nan, Validation loss: nan\n",
            "Epoch 197: Train err: 0.0, Train loss: 0.0005945012089796364 | Validation err: nan, Validation loss: nan\n",
            "Epoch 198: Train err: 0.0, Train loss: 0.000587141839787364 | Validation err: nan, Validation loss: nan\n",
            "Epoch 199: Train err: 0.0, Train loss: 0.0005799750215373933 | Validation err: nan, Validation loss: nan\n",
            "Epoch 200: Train err: 0.0, Train loss: 0.0005727525567635894 | Validation err: nan, Validation loss: nan\n",
            "Finished Training\n",
            "Total time elapsed: 156.07 seconds\n"
          ]
        }
      ]
    },
    {
      "cell_type": "markdown",
      "source": [
        "### Train"
      ],
      "metadata": {
        "id": "Y4SIU_yFWOjE"
      }
    },
    {
      "cell_type": "code",
      "source": [
        "# The first 5 iterations were trained previously\n",
        "epoch_choice = 5\n",
        "baseline_model = Baseline()\n",
        "model_path = get_baseline_name(epoch=5)\n",
        "state = torch.load(model_path)\n",
        "baseline_model.load_state_dict(state)\n",
        "\n",
        "train_baseline(baseline_model, use_lr_schedule=False, starting_epoch=6)"
      ],
      "metadata": {
        "id": "1TSvLuqzWOLn",
        "outputId": "3a5a9d77-7fc0-478f-82e0-d48ed1ca31b6",
        "colab": {
          "base_uri": "https://localhost:8080/"
        }
      },
      "execution_count": 125,
      "outputs": [
        {
          "output_type": "stream",
          "name": "stderr",
          "text": [
            "<ipython-input-125-b4011afc4c3c>:5: FutureWarning: You are using `torch.load` with `weights_only=False` (the current default value), which uses the default pickle module implicitly. It is possible to construct malicious pickle data which will execute arbitrary code during unpickling (See https://github.com/pytorch/pytorch/blob/main/SECURITY.md#untrusted-models for more details). In a future release, the default value for `weights_only` will be flipped to `True`. This limits the functions that could be executed during unpickling. Arbitrary objects will no longer be allowed to be loaded via this mode unless they are explicitly allowlisted by the user via `torch.serialization.add_safe_globals`. We recommend you start setting `weights_only=True` for any use case where you don't have full control of the loaded file. Please open an issue on GitHub for any issues related to this experimental feature.\n",
            "  state = torch.load(model_path)\n"
          ]
        },
        {
          "output_type": "stream",
          "name": "stdout",
          "text": [
            "Epoch 6: Train err: 0.26118934433581487, Train loss: 0.539329228741782 | Validation err: 0.42227456258411844, Validation loss: 0.8837363973576972\n",
            "Epoch 7: Train err: 0.2601130146201453, Train loss: 0.5325103402137756 | Validation err: 0.4088156123822342, Validation loss: 0.8587114443170264\n",
            "Epoch 8: Train err: 0.2504260471791192, Train loss: 0.5227904066017696 | Validation err: 0.4310228802153432, Validation loss: 0.9009141325950623\n",
            "Epoch 9: Train err: 0.24979818817831195, Train loss: 0.5244819717747825 | Validation err: 0.3832436069986541, Validation loss: 0.7059640186898252\n",
            "Epoch 10: Train err: 0.2471970580321105, Train loss: 0.5179734909534455 | Validation err: 0.40309555854643336, Validation loss: 0.8258238219200297\n",
            "Epoch 11: Train err: 0.24728675217508297, Train loss: 0.5188955962657928 | Validation err: 0.3946837146702557, Validation loss: 0.750469278781972\n",
            "Epoch 12: Train err: 0.2429814333124047, Train loss: 0.5107130781241825 | Validation err: 0.39064602960969047, Validation loss: 0.800903745154117\n",
            "Epoch 13: Train err: 0.23894519687864382, Train loss: 0.5058727186066764 | Validation err: 0.4027590847913863, Validation loss: 0.8136384043287723\n",
            "Epoch 14: Train err: 0.2435195981702395, Train loss: 0.5074373571361814 | Validation err: 0.4004037685060565, Validation loss: 0.8660376224112003\n",
            "Epoch 15: Train err: 0.2435195981702395, Train loss: 0.5139379465579986 | Validation err: 0.3882907133243607, Validation loss: 0.7727258560505319\n",
            "Epoch 16: Train err: 0.2330253834424612, Train loss: 0.501147187267031 | Validation err: 0.3990578734858681, Validation loss: 0.8290904658906003\n",
            "Epoch 17: Train err: 0.24952910574939458, Train loss: 0.5161070723193032 | Validation err: 0.38627187079407804, Validation loss: 0.7502799693574297\n",
            "Finished Training\n",
            "Total time elapsed: 1966.92 seconds\n"
          ]
        }
      ]
    },
    {
      "cell_type": "code",
      "source": [
        "plot_training_curve(get_baseline_name(epoch=17))"
      ],
      "metadata": {
        "id": "jVgmnibwYCk4",
        "outputId": "e58d5c76-a63a-4efb-9d25-128cc5aa4932",
        "colab": {
          "base_uri": "https://localhost:8080/",
          "height": 927
        }
      },
      "execution_count": 126,
      "outputs": [
        {
          "output_type": "display_data",
          "data": {
            "text/plain": [
              "<Figure size 640x480 with 1 Axes>"
            ],
            "image/png": "[encoded data removed]"
          },
          "metadata": {}
        },
        {
          "output_type": "display_data",
          "data": {
            "text/plain": [
              "<Figure size 640x480 with 1 Axes>"
            ],
            "image/png": "[encoded data removed]"
          },
          "metadata": {}
        }
      ]
    },
    {
      "cell_type": "markdown",
      "source": [
        "## Test"
      ],
      "metadata": {
        "id": "5XNxEgvGdblP"
      }
    },
    {
      "cell_type": "code",
      "source": [
        "net = Baseline()\n",
        "model_path = get_baseline_name(epoch=17)\n",
        "state = torch.load(model_path)\n",
        "net.load_state_dict(state)\n",
        "\n",
        "if torch.cuda.is_available():\n",
        "    net = net.cuda()\n",
        "\n",
        "_, _, test_loader = get_data_loaders_step2()\n",
        "\n",
        "test_error, _ = evaluate_baseline(net, test_loader)\n",
        "print(\"The test classification accuracy is\", 1 - test_error)"
      ],
      "metadata": {
        "id": "j9dldg-Edevp",
        "outputId": "312cf9d1-03ad-472f-f05d-eb5317bfc435",
        "colab": {
          "base_uri": "https://localhost:8080/"
        }
      },
      "execution_count": 127,
      "outputs": [
        {
          "output_type": "stream",
          "name": "stderr",
          "text": [
            "<ipython-input-127-b697d2521018>:3: FutureWarning: You are using `torch.load` with `weights_only=False` (the current default value), which uses the default pickle module implicitly. It is possible to construct malicious pickle data which will execute arbitrary code during unpickling (See https://github.com/pytorch/pytorch/blob/main/SECURITY.md#untrusted-models for more details). In a future release, the default value for `weights_only` will be flipped to `True`. This limits the functions that could be executed during unpickling. Arbitrary objects will no longer be allowed to be loaded via this mode unless they are explicitly allowlisted by the user via `torch.serialization.add_safe_globals`. We recommend you start setting `weights_only=True` for any use case where you don't have full control of the loaded file. Please open an issue on GitHub for any issues related to this experimental feature.\n",
            "  state = torch.load(model_path)\n"
          ]
        },
        {
          "output_type": "stream",
          "name": "stdout",
          "text": [
            "The test classification accuracy is 0.5994623655913979\n"
          ]
        }
      ]
    }
  ]
}